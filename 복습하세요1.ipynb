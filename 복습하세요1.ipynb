{
  "nbformat": 4,
  "nbformat_minor": 0,
  "metadata": {
    "colab": {
      "provenance": []
    },
    "kernelspec": {
      "name": "python3",
      "display_name": "Python 3"
    },
    "language_info": {
      "name": "python"
    }
  },
  "cells": [
    {
      "cell_type": "code",
      "execution_count": 1,
      "metadata": {
        "colab": {
          "base_uri": "https://localhost:8080/",
          "height": 95
        },
        "id": "clzjTzuIzkKp",
        "outputId": "b554f9f0-5a74-4028-e4ab-faff678627cc"
      },
      "outputs": [
        {
          "output_type": "display_data",
          "data": {
            "text/plain": [
              "<IPython.core.display.HTML object>"
            ],
            "text/html": [
              "\n",
              "     <input type=\"file\" id=\"files-2f9eceb9-f49d-47a9-9041-4a76fba90ad4\" name=\"files[]\" multiple disabled\n",
              "        style=\"border:none\" />\n",
              "     <output id=\"result-2f9eceb9-f49d-47a9-9041-4a76fba90ad4\">\n",
              "      Upload widget is only available when the cell has been executed in the\n",
              "      current browser session. Please rerun this cell to enable.\n",
              "      </output>\n",
              "      <script>// Copyright 2017 Google LLC\n",
              "//\n",
              "// Licensed under the Apache License, Version 2.0 (the \"License\");\n",
              "// you may not use this file except in compliance with the License.\n",
              "// You may obtain a copy of the License at\n",
              "//\n",
              "//      http://www.apache.org/licenses/LICENSE-2.0\n",
              "//\n",
              "// Unless required by applicable law or agreed to in writing, software\n",
              "// distributed under the License is distributed on an \"AS IS\" BASIS,\n",
              "// WITHOUT WARRANTIES OR CONDITIONS OF ANY KIND, either express or implied.\n",
              "// See the License for the specific language governing permissions and\n",
              "// limitations under the License.\n",
              "\n",
              "/**\n",
              " * @fileoverview Helpers for google.colab Python module.\n",
              " */\n",
              "(function(scope) {\n",
              "function span(text, styleAttributes = {}) {\n",
              "  const element = document.createElement('span');\n",
              "  element.textContent = text;\n",
              "  for (const key of Object.keys(styleAttributes)) {\n",
              "    element.style[key] = styleAttributes[key];\n",
              "  }\n",
              "  return element;\n",
              "}\n",
              "\n",
              "// Max number of bytes which will be uploaded at a time.\n",
              "const MAX_PAYLOAD_SIZE = 100 * 1024;\n",
              "\n",
              "function _uploadFiles(inputId, outputId) {\n",
              "  const steps = uploadFilesStep(inputId, outputId);\n",
              "  const outputElement = document.getElementById(outputId);\n",
              "  // Cache steps on the outputElement to make it available for the next call\n",
              "  // to uploadFilesContinue from Python.\n",
              "  outputElement.steps = steps;\n",
              "\n",
              "  return _uploadFilesContinue(outputId);\n",
              "}\n",
              "\n",
              "// This is roughly an async generator (not supported in the browser yet),\n",
              "// where there are multiple asynchronous steps and the Python side is going\n",
              "// to poll for completion of each step.\n",
              "// This uses a Promise to block the python side on completion of each step,\n",
              "// then passes the result of the previous step as the input to the next step.\n",
              "function _uploadFilesContinue(outputId) {\n",
              "  const outputElement = document.getElementById(outputId);\n",
              "  const steps = outputElement.steps;\n",
              "\n",
              "  const next = steps.next(outputElement.lastPromiseValue);\n",
              "  return Promise.resolve(next.value.promise).then((value) => {\n",
              "    // Cache the last promise value to make it available to the next\n",
              "    // step of the generator.\n",
              "    outputElement.lastPromiseValue = value;\n",
              "    return next.value.response;\n",
              "  });\n",
              "}\n",
              "\n",
              "/**\n",
              " * Generator function which is called between each async step of the upload\n",
              " * process.\n",
              " * @param {string} inputId Element ID of the input file picker element.\n",
              " * @param {string} outputId Element ID of the output display.\n",
              " * @return {!Iterable<!Object>} Iterable of next steps.\n",
              " */\n",
              "function* uploadFilesStep(inputId, outputId) {\n",
              "  const inputElement = document.getElementById(inputId);\n",
              "  inputElement.disabled = false;\n",
              "\n",
              "  const outputElement = document.getElementById(outputId);\n",
              "  outputElement.innerHTML = '';\n",
              "\n",
              "  const pickedPromise = new Promise((resolve) => {\n",
              "    inputElement.addEventListener('change', (e) => {\n",
              "      resolve(e.target.files);\n",
              "    });\n",
              "  });\n",
              "\n",
              "  const cancel = document.createElement('button');\n",
              "  inputElement.parentElement.appendChild(cancel);\n",
              "  cancel.textContent = 'Cancel upload';\n",
              "  const cancelPromise = new Promise((resolve) => {\n",
              "    cancel.onclick = () => {\n",
              "      resolve(null);\n",
              "    };\n",
              "  });\n",
              "\n",
              "  // Wait for the user to pick the files.\n",
              "  const files = yield {\n",
              "    promise: Promise.race([pickedPromise, cancelPromise]),\n",
              "    response: {\n",
              "      action: 'starting',\n",
              "    }\n",
              "  };\n",
              "\n",
              "  cancel.remove();\n",
              "\n",
              "  // Disable the input element since further picks are not allowed.\n",
              "  inputElement.disabled = true;\n",
              "\n",
              "  if (!files) {\n",
              "    return {\n",
              "      response: {\n",
              "        action: 'complete',\n",
              "      }\n",
              "    };\n",
              "  }\n",
              "\n",
              "  for (const file of files) {\n",
              "    const li = document.createElement('li');\n",
              "    li.append(span(file.name, {fontWeight: 'bold'}));\n",
              "    li.append(span(\n",
              "        `(${file.type || 'n/a'}) - ${file.size} bytes, ` +\n",
              "        `last modified: ${\n",
              "            file.lastModifiedDate ? file.lastModifiedDate.toLocaleDateString() :\n",
              "                                    'n/a'} - `));\n",
              "    const percent = span('0% done');\n",
              "    li.appendChild(percent);\n",
              "\n",
              "    outputElement.appendChild(li);\n",
              "\n",
              "    const fileDataPromise = new Promise((resolve) => {\n",
              "      const reader = new FileReader();\n",
              "      reader.onload = (e) => {\n",
              "        resolve(e.target.result);\n",
              "      };\n",
              "      reader.readAsArrayBuffer(file);\n",
              "    });\n",
              "    // Wait for the data to be ready.\n",
              "    let fileData = yield {\n",
              "      promise: fileDataPromise,\n",
              "      response: {\n",
              "        action: 'continue',\n",
              "      }\n",
              "    };\n",
              "\n",
              "    // Use a chunked sending to avoid message size limits. See b/62115660.\n",
              "    let position = 0;\n",
              "    do {\n",
              "      const length = Math.min(fileData.byteLength - position, MAX_PAYLOAD_SIZE);\n",
              "      const chunk = new Uint8Array(fileData, position, length);\n",
              "      position += length;\n",
              "\n",
              "      const base64 = btoa(String.fromCharCode.apply(null, chunk));\n",
              "      yield {\n",
              "        response: {\n",
              "          action: 'append',\n",
              "          file: file.name,\n",
              "          data: base64,\n",
              "        },\n",
              "      };\n",
              "\n",
              "      let percentDone = fileData.byteLength === 0 ?\n",
              "          100 :\n",
              "          Math.round((position / fileData.byteLength) * 100);\n",
              "      percent.textContent = `${percentDone}% done`;\n",
              "\n",
              "    } while (position < fileData.byteLength);\n",
              "  }\n",
              "\n",
              "  // All done.\n",
              "  yield {\n",
              "    response: {\n",
              "      action: 'complete',\n",
              "    }\n",
              "  };\n",
              "}\n",
              "\n",
              "scope.google = scope.google || {};\n",
              "scope.google.colab = scope.google.colab || {};\n",
              "scope.google.colab._files = {\n",
              "  _uploadFiles,\n",
              "  _uploadFilesContinue,\n",
              "};\n",
              "})(self);\n",
              "</script> "
            ]
          },
          "metadata": {}
        },
        {
          "output_type": "stream",
          "name": "stdout",
          "text": [
            "Saving kakao_rest_api.txt to kakao_rest_api (3).txt\n"
          ]
        },
        {
          "output_type": "execute_result",
          "data": {
            "text/plain": [
              "'kakao_rest_api.txt'"
            ],
            "application/vnd.google.colaboratory.intrinsic+json": {
              "type": "string"
            }
          },
          "metadata": {},
          "execution_count": 1
        }
      ],
      "source": [
        "from google.colab import files\n",
        "uploaded = files.upload()\n",
        "filename = list(uploaded.keys())[0]\n",
        "filename"
      ]
    },
    {
      "cell_type": "code",
      "source": [
        "with open(filename) as f:\n",
        "  api_key = f.read()"
      ],
      "metadata": {
        "id": "3l7RldG0zrlu"
      },
      "execution_count": 2,
      "outputs": []
    },
    {
      "cell_type": "code",
      "source": [
        "len(api_key)"
      ],
      "metadata": {
        "colab": {
          "base_uri": "https://localhost:8080/"
        },
        "id": "CCuNrJ2x0Zul",
        "outputId": "4c5a93e4-cccc-4946-eba7-d2ae022a96c2"
      },
      "execution_count": 3,
      "outputs": [
        {
          "output_type": "execute_result",
          "data": {
            "text/plain": [
              "32"
            ]
          },
          "metadata": {},
          "execution_count": 3
        }
      ]
    },
    {
      "cell_type": "code",
      "source": [
        "import requests\n",
        "from urllib.parse import quote"
      ],
      "metadata": {
        "id": "Aw33F20J0cnN"
      },
      "execution_count": 4,
      "outputs": []
    },
    {
      "cell_type": "code",
      "source": [
        "addr = '서울특별시 종로구 종로1길 36(수송동)'\n",
        "quote(addr)"
      ],
      "metadata": {
        "colab": {
          "base_uri": "https://localhost:8080/",
          "height": 54
        },
        "id": "qtECymvz0jBl",
        "outputId": "90273aa7-092c-49d8-bc90-9d88f6deca9b"
      },
      "execution_count": 5,
      "outputs": [
        {
          "output_type": "execute_result",
          "data": {
            "text/plain": [
              "'%EC%84%9C%EC%9A%B8%ED%8A%B9%EB%B3%84%EC%8B%9C%20%EC%A2%85%EB%A1%9C%EA%B5%AC%20%EC%A2%85%EB%A1%9C1%EA%B8%B8%2036%28%EC%88%98%EC%86%A1%EB%8F%99%29'"
            ],
            "application/vnd.google.colaboratory.intrinsic+json": {
              "type": "string"
            }
          },
          "metadata": {},
          "execution_count": 5
        }
      ]
    },
    {
      "cell_type": "code",
      "source": [
        "search_url = \"https://dapi.kakao.com/v2/local/search/address.json\""
      ],
      "metadata": {
        "id": "3lUIUdwB1sWN"
      },
      "execution_count": 6,
      "outputs": []
    },
    {
      "cell_type": "code",
      "source": [
        "url = f'{search_url}?query={quote(addr)}'\n",
        "url"
      ],
      "metadata": {
        "colab": {
          "base_uri": "https://localhost:8080/",
          "height": 72
        },
        "id": "tFgNjxaZ3yEt",
        "outputId": "a24f42fd-b31b-4062-c5d9-cacb1ada90ee"
      },
      "execution_count": 7,
      "outputs": [
        {
          "output_type": "execute_result",
          "data": {
            "text/plain": [
              "'https://dapi.kakao.com/v2/local/search/address.json?query=%EC%84%9C%EC%9A%B8%ED%8A%B9%EB%B3%84%EC%8B%9C%20%EC%A2%85%EB%A1%9C%EA%B5%AC%20%EC%A2%85%EB%A1%9C1%EA%B8%B8%2036%28%EC%88%98%EC%86%A1%EB%8F%99%29'"
            ],
            "application/vnd.google.colaboratory.intrinsic+json": {
              "type": "string"
            }
          },
          "metadata": {},
          "execution_count": 7
        }
      ]
    },
    {
      "cell_type": "code",
      "source": [
        "result = requests.get(url,\n",
        "                      headers={\"Authorization\": f'KakaoAK {api_key}'}).json()"
      ],
      "metadata": {
        "id": "KjMFvIfm4IvG"
      },
      "execution_count": 8,
      "outputs": []
    },
    {
      "cell_type": "code",
      "source": [
        "result"
      ],
      "metadata": {
        "colab": {
          "base_uri": "https://localhost:8080/"
        },
        "id": "SVJhO07P4rg9",
        "outputId": "977aeea2-fad5-4f53-a03a-01545e7c0d44"
      },
      "execution_count": 9,
      "outputs": [
        {
          "output_type": "execute_result",
          "data": {
            "text/plain": [
              "{'documents': [{'address': {'address_name': '서울 종로구 수송동 146-12',\n",
              "    'b_code': '1111012400',\n",
              "    'h_code': '1111061500',\n",
              "    'main_address_no': '146',\n",
              "    'mountain_yn': 'N',\n",
              "    'region_1depth_name': '서울',\n",
              "    'region_2depth_name': '종로구',\n",
              "    'region_3depth_h_name': '종로1.2.3.4가동',\n",
              "    'region_3depth_name': '수송동',\n",
              "    'sub_address_no': '12',\n",
              "    'x': '126.978988255925',\n",
              "    'y': '37.5735051436739'},\n",
              "   'address_name': '서울 종로구 종로1길 36',\n",
              "   'address_type': 'ROAD_ADDR',\n",
              "   'road_address': {'address_name': '서울 종로구 종로1길 36',\n",
              "    'building_name': '종로구청',\n",
              "    'main_building_no': '36',\n",
              "    'region_1depth_name': '서울',\n",
              "    'region_2depth_name': '종로구',\n",
              "    'region_3depth_name': '수송동',\n",
              "    'road_name': '종로1길',\n",
              "    'sub_building_no': '',\n",
              "    'underground_yn': 'N',\n",
              "    'x': '126.978988255925',\n",
              "    'y': '37.5735051436739',\n",
              "    'zone_no': '03152'},\n",
              "   'x': '126.978988255925',\n",
              "   'y': '37.5735051436739'}],\n",
              " 'meta': {'is_end': True, 'pageable_count': 1, 'total_count': 1}}"
            ]
          },
          "metadata": {},
          "execution_count": 9
        }
      ]
    },
    {
      "cell_type": "code",
      "source": [
        "print(result['documents'][0]['address']['x'])\n",
        "print(result['documents'][0]['address']['y'])"
      ],
      "metadata": {
        "colab": {
          "base_uri": "https://localhost:8080/"
        },
        "id": "JW8PjjPW4zQl",
        "outputId": "ba6feabd-315e-4ff1-ee35-71955a538f56"
      },
      "execution_count": 10,
      "outputs": [
        {
          "output_type": "stream",
          "name": "stdout",
          "text": [
            "126.978988255925\n",
            "37.5735051436739\n"
          ]
        }
      ]
    },
    {
      "cell_type": "code",
      "source": [
        "x = result['documents'][0]['address']['x']\n",
        "y = result['documents'][0]['address']['y']"
      ],
      "metadata": {
        "id": "WGXSIaTV5N0N"
      },
      "execution_count": 11,
      "outputs": []
    },
    {
      "cell_type": "code",
      "source": [
        "print('x : ',x)\n",
        "print('y : ',y)\n",
        "x,y\n",
        "lng =float(result['documents'][0]['x'])"
      ],
      "metadata": {
        "colab": {
          "base_uri": "https://localhost:8080/"
        },
        "id": "RsXx7E3Z531c",
        "outputId": "13bb9a17-68a9-4361-aa3f-7f44ba0759ec"
      },
      "execution_count": 12,
      "outputs": [
        {
          "output_type": "stream",
          "name": "stdout",
          "text": [
            "x :  126.978988255925\n",
            "y :  37.5735051436739\n"
          ]
        }
      ]
    },
    {
      "cell_type": "code",
      "source": [],
      "metadata": {
        "id": "8ybkSsyB_D74"
      },
      "execution_count": 12,
      "outputs": []
    },
    {
      "cell_type": "code",
      "source": [
        "place = ['서울특별시 종로구 종로1길 36(수송동)',\n",
        " '서울특별시 노원구 노해로 437(상계동)',\n",
        " '서울특별시 송파구 올림픽로 326(신천동)',\n",
        " '서울특별시 마포구 월드컵로 지하190(성산동)',\n",
        " '서울특별시 양천구 목동동로 105(신정동)',\n",
        " '서울특별시 강북구 도봉로89길 13(수유동)']"
      ],
      "metadata": {
        "id": "4LPs_N0N7DqO"
      },
      "execution_count": 13,
      "outputs": []
    },
    {
      "cell_type": "code",
      "source": [
        "x_list=[]\n",
        "for i in range(len(place)):\n",
        "  addr = place[i]\n",
        "  quote(addr)\n",
        "  url = f'{search_url}?query={quote(addr)}'\n",
        "  search_url = \"https://dapi.kakao.com/v2/local/search/address.json\"\n",
        "  result = requests.get(url,\n",
        "                      headers={\"Authorization\": f'KakaoAK {api_key}'}).json()\n",
        "  url = f'{search_url}?query={quote(addr)}'\n",
        "  x = result['documents'][0]['address']['x']\n",
        "  x_list.append(x)"
      ],
      "metadata": {
        "id": "QMbZQ74I6FGk"
      },
      "execution_count": 14,
      "outputs": []
    },
    {
      "cell_type": "code",
      "source": [
        "x_list"
      ],
      "metadata": {
        "colab": {
          "base_uri": "https://localhost:8080/"
        },
        "id": "IblamnO57QTc",
        "outputId": "a091e775-6d32-456e-f248-8ffbbe33c4d5"
      },
      "execution_count": 15,
      "outputs": [
        {
          "output_type": "execute_result",
          "data": {
            "text/plain": [
              "['126.978988255925',\n",
              " '127.056297212439',\n",
              " '127.105859984389',\n",
              " '126.903356973848',\n",
              " '126.866542541936',\n",
              " '127.025449504014']"
            ]
          },
          "metadata": {},
          "execution_count": 15
        }
      ]
    },
    {
      "cell_type": "code",
      "source": [
        "y_list=[]\n",
        "for i in range(len(place)):\n",
        "  addr = place[i]\n",
        "  quote(addr)\n",
        "  url = f'{search_url}?query={quote(addr)}'\n",
        "  search_url = \"https://dapi.kakao.com/v2/local/search/address.json\"\n",
        "  result = requests.get(url,\n",
        "                      headers={\"Authorization\": f'KakaoAK {api_key}'}).json()\n",
        "  y = result['documents'][0]['address']['y']\n",
        "  y_list.append(y)"
      ],
      "metadata": {
        "id": "hZSGSfGR7Zck"
      },
      "execution_count": 16,
      "outputs": []
    },
    {
      "cell_type": "code",
      "source": [
        "import pandas as pd\n",
        "df = pd.read_csv(\"/content/서울시_주요기관.csv\")"
      ],
      "metadata": {
        "id": "nTqfEgB08pHG"
      },
      "execution_count": 17,
      "outputs": []
    },
    {
      "cell_type": "code",
      "source": [
        "df['위도']= y_list\n",
        "df['경도']= x_list"
      ],
      "metadata": {
        "id": "oDj7m0-p9r5U"
      },
      "execution_count": 18,
      "outputs": []
    },
    {
      "cell_type": "code",
      "source": [
        "df"
      ],
      "metadata": {
        "colab": {
          "base_uri": "https://localhost:8080/",
          "height": 386
        },
        "id": "ohr_X4ANDgSd",
        "outputId": "d1f2e44c-dc3e-4d1c-d633-572ef5dbba40"
      },
      "execution_count": 19,
      "outputs": [
        {
          "output_type": "execute_result",
          "data": {
            "text/plain": [
              "     장소                      도로명주소                위도                경도\n",
              "0  종로구청     서울특별시 종로구 종로1길 36(수송동)  37.5735051436739  126.978988255925\n",
              "1  노원구청     서울특별시 노원구 노해로 437(상계동)  37.6545190418039  127.056297212439\n",
              "2  송파구청    서울특별시 송파구 올림픽로 326(신천동)   37.514477182474  127.105859984389\n",
              "3  마포구청  서울특별시 마포구 월드컵로 지하190(성산동)  37.5634263131969  126.903356973848\n",
              "4  양천구청    서울특별시 양천구 목동동로 105(신정동)  37.5170753784215  126.866542541936\n",
              "5  강북구청   서울특별시 강북구 도봉로89길 13(수유동)  37.6391856183931  127.025449504014"
            ],
            "text/html": [
              "\n",
              "  <div id=\"df-3b031133-9366-4ff2-92a1-1f9b64cff636\">\n",
              "    <div class=\"colab-df-container\">\n",
              "      <div>\n",
              "<style scoped>\n",
              "    .dataframe tbody tr th:only-of-type {\n",
              "        vertical-align: middle;\n",
              "    }\n",
              "\n",
              "    .dataframe tbody tr th {\n",
              "        vertical-align: top;\n",
              "    }\n",
              "\n",
              "    .dataframe thead th {\n",
              "        text-align: right;\n",
              "    }\n",
              "</style>\n",
              "<table border=\"1\" class=\"dataframe\">\n",
              "  <thead>\n",
              "    <tr style=\"text-align: right;\">\n",
              "      <th></th>\n",
              "      <th>장소</th>\n",
              "      <th>도로명주소</th>\n",
              "      <th>위도</th>\n",
              "      <th>경도</th>\n",
              "    </tr>\n",
              "  </thead>\n",
              "  <tbody>\n",
              "    <tr>\n",
              "      <th>0</th>\n",
              "      <td>종로구청</td>\n",
              "      <td>서울특별시 종로구 종로1길 36(수송동)</td>\n",
              "      <td>37.5735051436739</td>\n",
              "      <td>126.978988255925</td>\n",
              "    </tr>\n",
              "    <tr>\n",
              "      <th>1</th>\n",
              "      <td>노원구청</td>\n",
              "      <td>서울특별시 노원구 노해로 437(상계동)</td>\n",
              "      <td>37.6545190418039</td>\n",
              "      <td>127.056297212439</td>\n",
              "    </tr>\n",
              "    <tr>\n",
              "      <th>2</th>\n",
              "      <td>송파구청</td>\n",
              "      <td>서울특별시 송파구 올림픽로 326(신천동)</td>\n",
              "      <td>37.514477182474</td>\n",
              "      <td>127.105859984389</td>\n",
              "    </tr>\n",
              "    <tr>\n",
              "      <th>3</th>\n",
              "      <td>마포구청</td>\n",
              "      <td>서울특별시 마포구 월드컵로 지하190(성산동)</td>\n",
              "      <td>37.5634263131969</td>\n",
              "      <td>126.903356973848</td>\n",
              "    </tr>\n",
              "    <tr>\n",
              "      <th>4</th>\n",
              "      <td>양천구청</td>\n",
              "      <td>서울특별시 양천구 목동동로 105(신정동)</td>\n",
              "      <td>37.5170753784215</td>\n",
              "      <td>126.866542541936</td>\n",
              "    </tr>\n",
              "    <tr>\n",
              "      <th>5</th>\n",
              "      <td>강북구청</td>\n",
              "      <td>서울특별시 강북구 도봉로89길 13(수유동)</td>\n",
              "      <td>37.6391856183931</td>\n",
              "      <td>127.025449504014</td>\n",
              "    </tr>\n",
              "  </tbody>\n",
              "</table>\n",
              "</div>\n",
              "      <button class=\"colab-df-convert\" onclick=\"convertToInteractive('df-3b031133-9366-4ff2-92a1-1f9b64cff636')\"\n",
              "              title=\"Convert this dataframe to an interactive table.\"\n",
              "              style=\"display:none;\">\n",
              "        \n",
              "  <svg xmlns=\"http://www.w3.org/2000/svg\" height=\"24px\"viewBox=\"0 0 24 24\"\n",
              "       width=\"24px\">\n",
              "    <path d=\"M0 0h24v24H0V0z\" fill=\"none\"/>\n",
              "    <path d=\"M18.56 5.44l.94 2.06.94-2.06 2.06-.94-2.06-.94-.94-2.06-.94 2.06-2.06.94zm-11 1L8.5 8.5l.94-2.06 2.06-.94-2.06-.94L8.5 2.5l-.94 2.06-2.06.94zm10 10l.94 2.06.94-2.06 2.06-.94-2.06-.94-.94-2.06-.94 2.06-2.06.94z\"/><path d=\"M17.41 7.96l-1.37-1.37c-.4-.4-.92-.59-1.43-.59-.52 0-1.04.2-1.43.59L10.3 9.45l-7.72 7.72c-.78.78-.78 2.05 0 2.83L4 21.41c.39.39.9.59 1.41.59.51 0 1.02-.2 1.41-.59l7.78-7.78 2.81-2.81c.8-.78.8-2.07 0-2.86zM5.41 20L4 18.59l7.72-7.72 1.47 1.35L5.41 20z\"/>\n",
              "  </svg>\n",
              "      </button>\n",
              "      \n",
              "  <style>\n",
              "    .colab-df-container {\n",
              "      display:flex;\n",
              "      flex-wrap:wrap;\n",
              "      gap: 12px;\n",
              "    }\n",
              "\n",
              "    .colab-df-convert {\n",
              "      background-color: #E8F0FE;\n",
              "      border: none;\n",
              "      border-radius: 50%;\n",
              "      cursor: pointer;\n",
              "      display: none;\n",
              "      fill: #1967D2;\n",
              "      height: 32px;\n",
              "      padding: 0 0 0 0;\n",
              "      width: 32px;\n",
              "    }\n",
              "\n",
              "    .colab-df-convert:hover {\n",
              "      background-color: #E2EBFA;\n",
              "      box-shadow: 0px 1px 2px rgba(60, 64, 67, 0.3), 0px 1px 3px 1px rgba(60, 64, 67, 0.15);\n",
              "      fill: #174EA6;\n",
              "    }\n",
              "\n",
              "    [theme=dark] .colab-df-convert {\n",
              "      background-color: #3B4455;\n",
              "      fill: #D2E3FC;\n",
              "    }\n",
              "\n",
              "    [theme=dark] .colab-df-convert:hover {\n",
              "      background-color: #434B5C;\n",
              "      box-shadow: 0px 1px 3px 1px rgba(0, 0, 0, 0.15);\n",
              "      filter: drop-shadow(0px 1px 2px rgba(0, 0, 0, 0.3));\n",
              "      fill: #FFFFFF;\n",
              "    }\n",
              "  </style>\n",
              "\n",
              "      <script>\n",
              "        const buttonEl =\n",
              "          document.querySelector('#df-3b031133-9366-4ff2-92a1-1f9b64cff636 button.colab-df-convert');\n",
              "        buttonEl.style.display =\n",
              "          google.colab.kernel.accessAllowed ? 'block' : 'none';\n",
              "\n",
              "        async function convertToInteractive(key) {\n",
              "          const element = document.querySelector('#df-3b031133-9366-4ff2-92a1-1f9b64cff636');\n",
              "          const dataTable =\n",
              "            await google.colab.kernel.invokeFunction('convertToInteractive',\n",
              "                                                     [key], {});\n",
              "          if (!dataTable) return;\n",
              "\n",
              "          const docLinkHtml = 'Like what you see? Visit the ' +\n",
              "            '<a target=\"_blank\" href=https://colab.research.google.com/notebooks/data_table.ipynb>data table notebook</a>'\n",
              "            + ' to learn more about interactive tables.';\n",
              "          element.innerHTML = '';\n",
              "          dataTable['output_type'] = 'display_data';\n",
              "          await google.colab.output.renderOutput(dataTable, element);\n",
              "          const docLink = document.createElement('div');\n",
              "          docLink.innerHTML = docLinkHtml;\n",
              "          element.appendChild(docLink);\n",
              "        }\n",
              "      </script>\n",
              "    </div>\n",
              "  </div>\n",
              "  "
            ]
          },
          "metadata": {},
          "execution_count": 19
        }
      ]
    },
    {
      "cell_type": "code",
      "source": [
        "#1. 공공기관 지도표시 = 대학 folium 활용\n",
        "#2. 본인고향의 관공서 지도 표시\n",
        "#3. 부모님 고향이나 아니면 광주"
      ],
      "metadata": {
        "id": "8ge1DbnH9tKE"
      },
      "execution_count": 20,
      "outputs": []
    },
    {
      "cell_type": "code",
      "source": [
        "import folium"
      ],
      "metadata": {
        "id": "KNbqrokX_xoc"
      },
      "execution_count": 21,
      "outputs": []
    },
    {
      "cell_type": "code",
      "source": [
        "addr = '서울특별시 강북구 도봉로89길 13(수유동)'\n",
        "quote(addr)\n",
        "url = f'{search_url}?query={quote(addr)}'\n",
        "result = requests.get(url,\n",
        "                      headers={\"Authorization\": f'KakaoAK {api_key}'}).json()\n",
        "x_ = result['documents'][0]['address']['x']\n",
        "y_ = result['documents'][0]['address']['y']\n",
        "x_\n",
        "y_"
      ],
      "metadata": {
        "colab": {
          "base_uri": "https://localhost:8080/",
          "height": 35
        },
        "id": "Lkzo3rOgAkR_",
        "outputId": "b4e6eff4-44cd-490b-857a-a2bf0f6a14b6"
      },
      "execution_count": 22,
      "outputs": [
        {
          "output_type": "execute_result",
          "data": {
            "text/plain": [
              "'37.6391856183931'"
            ],
            "application/vnd.google.colaboratory.intrinsic+json": {
              "type": "string"
            }
          },
          "metadata": {},
          "execution_count": 22
        }
      ]
    },
    {
      "cell_type": "code",
      "source": [
        "map = folium.Map(location=[y_, x_], zoom_start=12,tiles='Stamen Terrain') #Stamen Terrain ,stamen Toner\n",
        "map"
      ],
      "metadata": {
        "colab": {
          "base_uri": "https://localhost:8080/",
          "height": 394
        },
        "id": "mzOqP4G0AQkU",
        "outputId": "06c56d49-858e-4472-833b-ea6ad86d4e07"
      },
      "execution_count": 23,
      "outputs": [
        {
          "output_type": "execute_result",
          "data": {
            "text/plain": [
              "<folium.folium.Map at 0x7fa0c5551220>"
            ],
            "text/html": [
              "<div style=\"width:100%;\"><div style=\"position:relative;width:100%;height:0;padding-bottom:60%;\"><span style=\"color:#565656\">Make this Notebook Trusted to load map: File -> Trust Notebook</span><iframe srcdoc=\"&lt;!DOCTYPE html&gt;\n",
              "&lt;html&gt;\n",
              "&lt;head&gt;\n",
              "    \n",
              "    &lt;meta http-equiv=&quot;content-type&quot; content=&quot;text/html; charset=UTF-8&quot; /&gt;\n",
              "    \n",
              "        &lt;script&gt;\n",
              "            L_NO_TOUCH = false;\n",
              "            L_DISABLE_3D = false;\n",
              "        &lt;/script&gt;\n",
              "    \n",
              "    &lt;style&gt;html, body {width: 100%;height: 100%;margin: 0;padding: 0;}&lt;/style&gt;\n",
              "    &lt;style&gt;#map {position:absolute;top:0;bottom:0;right:0;left:0;}&lt;/style&gt;\n",
              "    &lt;script src=&quot;https://cdn.jsdelivr.net/npm/leaflet@1.6.0/dist/leaflet.js&quot;&gt;&lt;/script&gt;\n",
              "    &lt;script src=&quot;https://code.jquery.com/jquery-1.12.4.min.js&quot;&gt;&lt;/script&gt;\n",
              "    &lt;script src=&quot;https://maxcdn.bootstrapcdn.com/bootstrap/3.2.0/js/bootstrap.min.js&quot;&gt;&lt;/script&gt;\n",
              "    &lt;script src=&quot;https://cdnjs.cloudflare.com/ajax/libs/Leaflet.awesome-markers/2.0.2/leaflet.awesome-markers.js&quot;&gt;&lt;/script&gt;\n",
              "    &lt;link rel=&quot;stylesheet&quot; href=&quot;https://cdn.jsdelivr.net/npm/leaflet@1.6.0/dist/leaflet.css&quot;/&gt;\n",
              "    &lt;link rel=&quot;stylesheet&quot; href=&quot;https://maxcdn.bootstrapcdn.com/bootstrap/3.2.0/css/bootstrap.min.css&quot;/&gt;\n",
              "    &lt;link rel=&quot;stylesheet&quot; href=&quot;https://maxcdn.bootstrapcdn.com/bootstrap/3.2.0/css/bootstrap-theme.min.css&quot;/&gt;\n",
              "    &lt;link rel=&quot;stylesheet&quot; href=&quot;https://maxcdn.bootstrapcdn.com/font-awesome/4.6.3/css/font-awesome.min.css&quot;/&gt;\n",
              "    &lt;link rel=&quot;stylesheet&quot; href=&quot;https://cdnjs.cloudflare.com/ajax/libs/Leaflet.awesome-markers/2.0.2/leaflet.awesome-markers.css&quot;/&gt;\n",
              "    &lt;link rel=&quot;stylesheet&quot; href=&quot;https://cdn.jsdelivr.net/gh/python-visualization/folium/folium/templates/leaflet.awesome.rotate.min.css&quot;/&gt;\n",
              "    \n",
              "            &lt;meta name=&quot;viewport&quot; content=&quot;width=device-width,\n",
              "                initial-scale=1.0, maximum-scale=1.0, user-scalable=no&quot; /&gt;\n",
              "            &lt;style&gt;\n",
              "                #map_7fb7e897f6b41bfd8e8c348f49c918a1 {\n",
              "                    position: relative;\n",
              "                    width: 100.0%;\n",
              "                    height: 100.0%;\n",
              "                    left: 0.0%;\n",
              "                    top: 0.0%;\n",
              "                }\n",
              "            &lt;/style&gt;\n",
              "        \n",
              "&lt;/head&gt;\n",
              "&lt;body&gt;\n",
              "    \n",
              "    \n",
              "            &lt;div class=&quot;folium-map&quot; id=&quot;map_7fb7e897f6b41bfd8e8c348f49c918a1&quot; &gt;&lt;/div&gt;\n",
              "        \n",
              "&lt;/body&gt;\n",
              "&lt;script&gt;\n",
              "    \n",
              "    \n",
              "            var map_7fb7e897f6b41bfd8e8c348f49c918a1 = L.map(\n",
              "                &quot;map_7fb7e897f6b41bfd8e8c348f49c918a1&quot;,\n",
              "                {\n",
              "                    center: [37.6391856183931, 127.025449504014],\n",
              "                    crs: L.CRS.EPSG3857,\n",
              "                    zoom: 12,\n",
              "                    zoomControl: true,\n",
              "                    preferCanvas: false,\n",
              "                }\n",
              "            );\n",
              "\n",
              "            \n",
              "\n",
              "        \n",
              "    \n",
              "            var tile_layer_4e8db8a225b63d3dc548edae1d16d4a0 = L.tileLayer(\n",
              "                &quot;https://stamen-tiles-{s}.a.ssl.fastly.net/terrain/{z}/{x}/{y}.jpg&quot;,\n",
              "                {&quot;attribution&quot;: &quot;Map tiles by \\u003ca href=\\&quot;http://stamen.com\\&quot;\\u003eStamen Design\\u003c/a\\u003e, under \\u003ca href=\\&quot;http://creativecommons.org/licenses/by/3.0\\&quot;\\u003eCC BY 3.0\\u003c/a\\u003e. Data by \\u0026copy; \\u003ca href=\\&quot;http://openstreetmap.org\\&quot;\\u003eOpenStreetMap\\u003c/a\\u003e, under \\u003ca href=\\&quot;http://creativecommons.org/licenses/by-sa/3.0\\&quot;\\u003eCC BY SA\\u003c/a\\u003e.&quot;, &quot;detectRetina&quot;: false, &quot;maxNativeZoom&quot;: 18, &quot;maxZoom&quot;: 18, &quot;minZoom&quot;: 0, &quot;noWrap&quot;: false, &quot;opacity&quot;: 1, &quot;subdomains&quot;: &quot;abc&quot;, &quot;tms&quot;: false}\n",
              "            ).addTo(map_7fb7e897f6b41bfd8e8c348f49c918a1);\n",
              "        \n",
              "&lt;/script&gt;\n",
              "&lt;/html&gt;\" style=\"position:absolute;width:100%;height:100%;left:0;top:0;border:none !important;\" allowfullscreen webkitallowfullscreen mozallowfullscreen></iframe></div></div>"
            ]
          },
          "metadata": {},
          "execution_count": 23
        }
      ]
    },
    {
      "cell_type": "code",
      "source": [
        "map = folium.Map(location=[y_, x_], zoom_start=15,tiles='Stamen Terrain') #Stamen Terrain ,stamen Toner\n",
        "for i in df.index[:100]:\n",
        "  folium.Circle(radius =200,\n",
        "                location= [y_,x_],\n",
        "                popup= folium.Popup(y_,x_,max_width=150),\n",
        "                tooltip=addr,\n",
        "                color='crimson',\n",
        "                fill=True).add_to(map)\n",
        "title= '<h3 align=\"center\" style=\"font-size:20[x]\"> 관공서 지도 표시</h3>'\n",
        "map.get_root().html.add_child(folium.Element(title))"
      ],
      "metadata": {
        "colab": {
          "base_uri": "https://localhost:8080/"
        },
        "id": "WznG6BlVBlLJ",
        "outputId": "6c000a54-b2dc-4eeb-cd4c-67d7de82d7e7"
      },
      "execution_count": 24,
      "outputs": [
        {
          "output_type": "execute_result",
          "data": {
            "text/plain": [
              "<branca.element.Element at 0x7fa0c4ebe7f0>"
            ]
          },
          "metadata": {},
          "execution_count": 24
        }
      ]
    },
    {
      "cell_type": "code",
      "source": [
        "map"
      ],
      "metadata": {
        "colab": {
          "base_uri": "https://localhost:8080/",
          "height": 394
        },
        "id": "Ja8Lc6eSBmVp",
        "outputId": "5888881b-f166-4894-ec31-3b6ec035dacc"
      },
      "execution_count": 25,
      "outputs": [
        {
          "output_type": "execute_result",
          "data": {
            "text/plain": [
              "<folium.folium.Map at 0x7fa0c4ebec40>"
            ],
            "text/html": [
              "<div style=\"width:100%;\"><div style=\"position:relative;width:100%;height:0;padding-bottom:60%;\"><span style=\"color:#565656\">Make this Notebook Trusted to load map: File -> Trust Notebook</span><iframe srcdoc=\"&lt;!DOCTYPE html&gt;\n",
              "&lt;html&gt;\n",
              "&lt;head&gt;\n",
              "    \n",
              "    &lt;meta http-equiv=&quot;content-type&quot; content=&quot;text/html; charset=UTF-8&quot; /&gt;\n",
              "    \n",
              "        &lt;script&gt;\n",
              "            L_NO_TOUCH = false;\n",
              "            L_DISABLE_3D = false;\n",
              "        &lt;/script&gt;\n",
              "    \n",
              "    &lt;style&gt;html, body {width: 100%;height: 100%;margin: 0;padding: 0;}&lt;/style&gt;\n",
              "    &lt;style&gt;#map {position:absolute;top:0;bottom:0;right:0;left:0;}&lt;/style&gt;\n",
              "    &lt;script src=&quot;https://cdn.jsdelivr.net/npm/leaflet@1.6.0/dist/leaflet.js&quot;&gt;&lt;/script&gt;\n",
              "    &lt;script src=&quot;https://code.jquery.com/jquery-1.12.4.min.js&quot;&gt;&lt;/script&gt;\n",
              "    &lt;script src=&quot;https://maxcdn.bootstrapcdn.com/bootstrap/3.2.0/js/bootstrap.min.js&quot;&gt;&lt;/script&gt;\n",
              "    &lt;script src=&quot;https://cdnjs.cloudflare.com/ajax/libs/Leaflet.awesome-markers/2.0.2/leaflet.awesome-markers.js&quot;&gt;&lt;/script&gt;\n",
              "    &lt;link rel=&quot;stylesheet&quot; href=&quot;https://cdn.jsdelivr.net/npm/leaflet@1.6.0/dist/leaflet.css&quot;/&gt;\n",
              "    &lt;link rel=&quot;stylesheet&quot; href=&quot;https://maxcdn.bootstrapcdn.com/bootstrap/3.2.0/css/bootstrap.min.css&quot;/&gt;\n",
              "    &lt;link rel=&quot;stylesheet&quot; href=&quot;https://maxcdn.bootstrapcdn.com/bootstrap/3.2.0/css/bootstrap-theme.min.css&quot;/&gt;\n",
              "    &lt;link rel=&quot;stylesheet&quot; href=&quot;https://maxcdn.bootstrapcdn.com/font-awesome/4.6.3/css/font-awesome.min.css&quot;/&gt;\n",
              "    &lt;link rel=&quot;stylesheet&quot; href=&quot;https://cdnjs.cloudflare.com/ajax/libs/Leaflet.awesome-markers/2.0.2/leaflet.awesome-markers.css&quot;/&gt;\n",
              "    &lt;link rel=&quot;stylesheet&quot; href=&quot;https://cdn.jsdelivr.net/gh/python-visualization/folium/folium/templates/leaflet.awesome.rotate.min.css&quot;/&gt;\n",
              "    \n",
              "            &lt;meta name=&quot;viewport&quot; content=&quot;width=device-width,\n",
              "                initial-scale=1.0, maximum-scale=1.0, user-scalable=no&quot; /&gt;\n",
              "            &lt;style&gt;\n",
              "                #map_19efee887a4138fc8d2a881eb58d8cf4 {\n",
              "                    position: relative;\n",
              "                    width: 100.0%;\n",
              "                    height: 100.0%;\n",
              "                    left: 0.0%;\n",
              "                    top: 0.0%;\n",
              "                }\n",
              "            &lt;/style&gt;\n",
              "        \n",
              "&lt;/head&gt;\n",
              "&lt;body&gt;\n",
              "    \n",
              "    &lt;h3 align=&quot;center&quot; style=&quot;font-size:20[x]&quot;&gt; 관공서 지도 표시&lt;/h3&gt;\n",
              "    \n",
              "            &lt;div class=&quot;folium-map&quot; id=&quot;map_19efee887a4138fc8d2a881eb58d8cf4&quot; &gt;&lt;/div&gt;\n",
              "        \n",
              "&lt;/body&gt;\n",
              "&lt;script&gt;\n",
              "    \n",
              "    \n",
              "            var map_19efee887a4138fc8d2a881eb58d8cf4 = L.map(\n",
              "                &quot;map_19efee887a4138fc8d2a881eb58d8cf4&quot;,\n",
              "                {\n",
              "                    center: [37.6391856183931, 127.025449504014],\n",
              "                    crs: L.CRS.EPSG3857,\n",
              "                    zoom: 15,\n",
              "                    zoomControl: true,\n",
              "                    preferCanvas: false,\n",
              "                }\n",
              "            );\n",
              "\n",
              "            \n",
              "\n",
              "        \n",
              "    \n",
              "            var tile_layer_5bd0daaad07883fa652362bc679ecfd8 = L.tileLayer(\n",
              "                &quot;https://stamen-tiles-{s}.a.ssl.fastly.net/terrain/{z}/{x}/{y}.jpg&quot;,\n",
              "                {&quot;attribution&quot;: &quot;Map tiles by \\u003ca href=\\&quot;http://stamen.com\\&quot;\\u003eStamen Design\\u003c/a\\u003e, under \\u003ca href=\\&quot;http://creativecommons.org/licenses/by/3.0\\&quot;\\u003eCC BY 3.0\\u003c/a\\u003e. Data by \\u0026copy; \\u003ca href=\\&quot;http://openstreetmap.org\\&quot;\\u003eOpenStreetMap\\u003c/a\\u003e, under \\u003ca href=\\&quot;http://creativecommons.org/licenses/by-sa/3.0\\&quot;\\u003eCC BY SA\\u003c/a\\u003e.&quot;, &quot;detectRetina&quot;: false, &quot;maxNativeZoom&quot;: 18, &quot;maxZoom&quot;: 18, &quot;minZoom&quot;: 0, &quot;noWrap&quot;: false, &quot;opacity&quot;: 1, &quot;subdomains&quot;: &quot;abc&quot;, &quot;tms&quot;: false}\n",
              "            ).addTo(map_19efee887a4138fc8d2a881eb58d8cf4);\n",
              "        \n",
              "    \n",
              "            var circle_cde9fe3fbb6c09fb1f02716422e3f47f = L.circle(\n",
              "                [37.6391856183931, 127.025449504014],\n",
              "                {&quot;bubblingMouseEvents&quot;: true, &quot;color&quot;: &quot;crimson&quot;, &quot;dashArray&quot;: null, &quot;dashOffset&quot;: null, &quot;fill&quot;: true, &quot;fillColor&quot;: &quot;crimson&quot;, &quot;fillOpacity&quot;: 0.2, &quot;fillRule&quot;: &quot;evenodd&quot;, &quot;lineCap&quot;: &quot;round&quot;, &quot;lineJoin&quot;: &quot;round&quot;, &quot;opacity&quot;: 1.0, &quot;radius&quot;: 200, &quot;stroke&quot;: true, &quot;weight&quot;: 3}\n",
              "            ).addTo(map_19efee887a4138fc8d2a881eb58d8cf4);\n",
              "        \n",
              "    \n",
              "        var popup_7e82812c4b1ba3eaafa16b9cfb5238a7 = L.popup({&quot;maxWidth&quot;: 150});\n",
              "\n",
              "        \n",
              "            var html_668e05317a69e504d312815362c5c6a7 = $(`&lt;div id=&quot;html_668e05317a69e504d312815362c5c6a7&quot; style=&quot;width: 100.0%; height: 100.0%;&quot;&gt;37.6391856183931&lt;/div&gt;`)[0];\n",
              "            popup_7e82812c4b1ba3eaafa16b9cfb5238a7.setContent(html_668e05317a69e504d312815362c5c6a7);\n",
              "        \n",
              "\n",
              "        circle_cde9fe3fbb6c09fb1f02716422e3f47f.bindPopup(popup_7e82812c4b1ba3eaafa16b9cfb5238a7)\n",
              "        ;\n",
              "\n",
              "        \n",
              "    \n",
              "    \n",
              "            circle_cde9fe3fbb6c09fb1f02716422e3f47f.bindTooltip(\n",
              "                `&lt;div&gt;\n",
              "                     서울특별시 강북구 도봉로89길 13(수유동)\n",
              "                 &lt;/div&gt;`,\n",
              "                {&quot;sticky&quot;: true}\n",
              "            );\n",
              "        \n",
              "    \n",
              "            var circle_06de1710b14c69233915f3f62c963b69 = L.circle(\n",
              "                [37.6391856183931, 127.025449504014],\n",
              "                {&quot;bubblingMouseEvents&quot;: true, &quot;color&quot;: &quot;crimson&quot;, &quot;dashArray&quot;: null, &quot;dashOffset&quot;: null, &quot;fill&quot;: true, &quot;fillColor&quot;: &quot;crimson&quot;, &quot;fillOpacity&quot;: 0.2, &quot;fillRule&quot;: &quot;evenodd&quot;, &quot;lineCap&quot;: &quot;round&quot;, &quot;lineJoin&quot;: &quot;round&quot;, &quot;opacity&quot;: 1.0, &quot;radius&quot;: 200, &quot;stroke&quot;: true, &quot;weight&quot;: 3}\n",
              "            ).addTo(map_19efee887a4138fc8d2a881eb58d8cf4);\n",
              "        \n",
              "    \n",
              "        var popup_ea0d4698f9ab32f101952bd0ebb038d9 = L.popup({&quot;maxWidth&quot;: 150});\n",
              "\n",
              "        \n",
              "            var html_c7f792664a31c7264a5ec4190cdadc78 = $(`&lt;div id=&quot;html_c7f792664a31c7264a5ec4190cdadc78&quot; style=&quot;width: 100.0%; height: 100.0%;&quot;&gt;37.6391856183931&lt;/div&gt;`)[0];\n",
              "            popup_ea0d4698f9ab32f101952bd0ebb038d9.setContent(html_c7f792664a31c7264a5ec4190cdadc78);\n",
              "        \n",
              "\n",
              "        circle_06de1710b14c69233915f3f62c963b69.bindPopup(popup_ea0d4698f9ab32f101952bd0ebb038d9)\n",
              "        ;\n",
              "\n",
              "        \n",
              "    \n",
              "    \n",
              "            circle_06de1710b14c69233915f3f62c963b69.bindTooltip(\n",
              "                `&lt;div&gt;\n",
              "                     서울특별시 강북구 도봉로89길 13(수유동)\n",
              "                 &lt;/div&gt;`,\n",
              "                {&quot;sticky&quot;: true}\n",
              "            );\n",
              "        \n",
              "    \n",
              "            var circle_955be3ff61f501ae60d8b532d36ea8de = L.circle(\n",
              "                [37.6391856183931, 127.025449504014],\n",
              "                {&quot;bubblingMouseEvents&quot;: true, &quot;color&quot;: &quot;crimson&quot;, &quot;dashArray&quot;: null, &quot;dashOffset&quot;: null, &quot;fill&quot;: true, &quot;fillColor&quot;: &quot;crimson&quot;, &quot;fillOpacity&quot;: 0.2, &quot;fillRule&quot;: &quot;evenodd&quot;, &quot;lineCap&quot;: &quot;round&quot;, &quot;lineJoin&quot;: &quot;round&quot;, &quot;opacity&quot;: 1.0, &quot;radius&quot;: 200, &quot;stroke&quot;: true, &quot;weight&quot;: 3}\n",
              "            ).addTo(map_19efee887a4138fc8d2a881eb58d8cf4);\n",
              "        \n",
              "    \n",
              "        var popup_afa5e058edfde10ca5f80335fb9ccb64 = L.popup({&quot;maxWidth&quot;: 150});\n",
              "\n",
              "        \n",
              "            var html_64d6d429ed23daa0da9d0e6af0901051 = $(`&lt;div id=&quot;html_64d6d429ed23daa0da9d0e6af0901051&quot; style=&quot;width: 100.0%; height: 100.0%;&quot;&gt;37.6391856183931&lt;/div&gt;`)[0];\n",
              "            popup_afa5e058edfde10ca5f80335fb9ccb64.setContent(html_64d6d429ed23daa0da9d0e6af0901051);\n",
              "        \n",
              "\n",
              "        circle_955be3ff61f501ae60d8b532d36ea8de.bindPopup(popup_afa5e058edfde10ca5f80335fb9ccb64)\n",
              "        ;\n",
              "\n",
              "        \n",
              "    \n",
              "    \n",
              "            circle_955be3ff61f501ae60d8b532d36ea8de.bindTooltip(\n",
              "                `&lt;div&gt;\n",
              "                     서울특별시 강북구 도봉로89길 13(수유동)\n",
              "                 &lt;/div&gt;`,\n",
              "                {&quot;sticky&quot;: true}\n",
              "            );\n",
              "        \n",
              "    \n",
              "            var circle_89aed09df2a02232911c5bcca1c4fc6e = L.circle(\n",
              "                [37.6391856183931, 127.025449504014],\n",
              "                {&quot;bubblingMouseEvents&quot;: true, &quot;color&quot;: &quot;crimson&quot;, &quot;dashArray&quot;: null, &quot;dashOffset&quot;: null, &quot;fill&quot;: true, &quot;fillColor&quot;: &quot;crimson&quot;, &quot;fillOpacity&quot;: 0.2, &quot;fillRule&quot;: &quot;evenodd&quot;, &quot;lineCap&quot;: &quot;round&quot;, &quot;lineJoin&quot;: &quot;round&quot;, &quot;opacity&quot;: 1.0, &quot;radius&quot;: 200, &quot;stroke&quot;: true, &quot;weight&quot;: 3}\n",
              "            ).addTo(map_19efee887a4138fc8d2a881eb58d8cf4);\n",
              "        \n",
              "    \n",
              "        var popup_6791395724a73868917cc6d1abf90f73 = L.popup({&quot;maxWidth&quot;: 150});\n",
              "\n",
              "        \n",
              "            var html_87888499bb6bb1255a8fc95628b4fb7d = $(`&lt;div id=&quot;html_87888499bb6bb1255a8fc95628b4fb7d&quot; style=&quot;width: 100.0%; height: 100.0%;&quot;&gt;37.6391856183931&lt;/div&gt;`)[0];\n",
              "            popup_6791395724a73868917cc6d1abf90f73.setContent(html_87888499bb6bb1255a8fc95628b4fb7d);\n",
              "        \n",
              "\n",
              "        circle_89aed09df2a02232911c5bcca1c4fc6e.bindPopup(popup_6791395724a73868917cc6d1abf90f73)\n",
              "        ;\n",
              "\n",
              "        \n",
              "    \n",
              "    \n",
              "            circle_89aed09df2a02232911c5bcca1c4fc6e.bindTooltip(\n",
              "                `&lt;div&gt;\n",
              "                     서울특별시 강북구 도봉로89길 13(수유동)\n",
              "                 &lt;/div&gt;`,\n",
              "                {&quot;sticky&quot;: true}\n",
              "            );\n",
              "        \n",
              "    \n",
              "            var circle_dcbc4e51f78a405e75af017dd2ca6189 = L.circle(\n",
              "                [37.6391856183931, 127.025449504014],\n",
              "                {&quot;bubblingMouseEvents&quot;: true, &quot;color&quot;: &quot;crimson&quot;, &quot;dashArray&quot;: null, &quot;dashOffset&quot;: null, &quot;fill&quot;: true, &quot;fillColor&quot;: &quot;crimson&quot;, &quot;fillOpacity&quot;: 0.2, &quot;fillRule&quot;: &quot;evenodd&quot;, &quot;lineCap&quot;: &quot;round&quot;, &quot;lineJoin&quot;: &quot;round&quot;, &quot;opacity&quot;: 1.0, &quot;radius&quot;: 200, &quot;stroke&quot;: true, &quot;weight&quot;: 3}\n",
              "            ).addTo(map_19efee887a4138fc8d2a881eb58d8cf4);\n",
              "        \n",
              "    \n",
              "        var popup_ec22e1838009d418c24dc927ee19d618 = L.popup({&quot;maxWidth&quot;: 150});\n",
              "\n",
              "        \n",
              "            var html_9dcf07d22b62d7c4526d6debcc670c88 = $(`&lt;div id=&quot;html_9dcf07d22b62d7c4526d6debcc670c88&quot; style=&quot;width: 100.0%; height: 100.0%;&quot;&gt;37.6391856183931&lt;/div&gt;`)[0];\n",
              "            popup_ec22e1838009d418c24dc927ee19d618.setContent(html_9dcf07d22b62d7c4526d6debcc670c88);\n",
              "        \n",
              "\n",
              "        circle_dcbc4e51f78a405e75af017dd2ca6189.bindPopup(popup_ec22e1838009d418c24dc927ee19d618)\n",
              "        ;\n",
              "\n",
              "        \n",
              "    \n",
              "    \n",
              "            circle_dcbc4e51f78a405e75af017dd2ca6189.bindTooltip(\n",
              "                `&lt;div&gt;\n",
              "                     서울특별시 강북구 도봉로89길 13(수유동)\n",
              "                 &lt;/div&gt;`,\n",
              "                {&quot;sticky&quot;: true}\n",
              "            );\n",
              "        \n",
              "    \n",
              "            var circle_60b3d7e86b6a338b0c7cfad1ef8c2676 = L.circle(\n",
              "                [37.6391856183931, 127.025449504014],\n",
              "                {&quot;bubblingMouseEvents&quot;: true, &quot;color&quot;: &quot;crimson&quot;, &quot;dashArray&quot;: null, &quot;dashOffset&quot;: null, &quot;fill&quot;: true, &quot;fillColor&quot;: &quot;crimson&quot;, &quot;fillOpacity&quot;: 0.2, &quot;fillRule&quot;: &quot;evenodd&quot;, &quot;lineCap&quot;: &quot;round&quot;, &quot;lineJoin&quot;: &quot;round&quot;, &quot;opacity&quot;: 1.0, &quot;radius&quot;: 200, &quot;stroke&quot;: true, &quot;weight&quot;: 3}\n",
              "            ).addTo(map_19efee887a4138fc8d2a881eb58d8cf4);\n",
              "        \n",
              "    \n",
              "        var popup_3b00fc7057bfe264a71de189071ed21d = L.popup({&quot;maxWidth&quot;: 150});\n",
              "\n",
              "        \n",
              "            var html_fc61735bc2002f75977eae373f012d1d = $(`&lt;div id=&quot;html_fc61735bc2002f75977eae373f012d1d&quot; style=&quot;width: 100.0%; height: 100.0%;&quot;&gt;37.6391856183931&lt;/div&gt;`)[0];\n",
              "            popup_3b00fc7057bfe264a71de189071ed21d.setContent(html_fc61735bc2002f75977eae373f012d1d);\n",
              "        \n",
              "\n",
              "        circle_60b3d7e86b6a338b0c7cfad1ef8c2676.bindPopup(popup_3b00fc7057bfe264a71de189071ed21d)\n",
              "        ;\n",
              "\n",
              "        \n",
              "    \n",
              "    \n",
              "            circle_60b3d7e86b6a338b0c7cfad1ef8c2676.bindTooltip(\n",
              "                `&lt;div&gt;\n",
              "                     서울특별시 강북구 도봉로89길 13(수유동)\n",
              "                 &lt;/div&gt;`,\n",
              "                {&quot;sticky&quot;: true}\n",
              "            );\n",
              "        \n",
              "&lt;/script&gt;\n",
              "&lt;/html&gt;\" style=\"position:absolute;width:100%;height:100%;left:0;top:0;border:none !important;\" allowfullscreen webkitallowfullscreen mozallowfullscreen></iframe></div></div>"
            ]
          },
          "metadata": {},
          "execution_count": 25
        }
      ]
    },
    {
      "cell_type": "code",
      "source": [
        "addr = '인천'\n",
        "quote(addr)\n",
        "url = f'{search_url}?query={quote(addr)}'\n",
        "result = requests.get(url,\n",
        "                      headers={\"Authorization\": f'KakaoAK {api_key}'}).json()\n",
        "x_f = result['documents'][0]['address']['x']\n",
        "y_f = result['documents'][0]['address']['y']\n",
        "x_f\n",
        "y_f"
      ],
      "metadata": {
        "colab": {
          "base_uri": "https://localhost:8080/",
          "height": 35
        },
        "id": "-pbh7wigC4t0",
        "outputId": "278640b1-600f-441e-f76e-5e32f91dcb64"
      },
      "execution_count": 26,
      "outputs": [
        {
          "output_type": "execute_result",
          "data": {
            "text/plain": [
              "'37.4560044656444'"
            ],
            "application/vnd.google.colaboratory.intrinsic+json": {
              "type": "string"
            }
          },
          "metadata": {},
          "execution_count": 26
        }
      ]
    },
    {
      "cell_type": "code",
      "source": [
        "map1 = folium.Map(location=[y_f, x_f], zoom_start=15,tiles='Stamen Terrain') #Stamen Terrain ,stamen Toner\n",
        "for i in df.index[:100]:\n",
        "  folium.Circle(radius =200,\n",
        "                location= [y_f,x_f],\n",
        "                popup= folium.Popup(y_f,x_f,max_width=150),\n",
        "                tooltip=addr,\n",
        "                color='crimson',\n",
        "                fill=True).add_to(map1)\n",
        "title= '<h3 align=\"center\" style=\"font-size:20[x]\"> 관공서 지도 표시</h3>'\n",
        "map.get_root().html.add_child(folium.Element(title))"
      ],
      "metadata": {
        "colab": {
          "base_uri": "https://localhost:8080/"
        },
        "id": "dJFCILSZGe3s",
        "outputId": "bb9c7eb2-e32e-46da-bd11-6dcf22572997"
      },
      "execution_count": 27,
      "outputs": [
        {
          "output_type": "execute_result",
          "data": {
            "text/plain": [
              "<branca.element.Element at 0x7fa0c4ebe7f0>"
            ]
          },
          "metadata": {},
          "execution_count": 27
        }
      ]
    },
    {
      "cell_type": "code",
      "source": [
        "map1"
      ],
      "metadata": {
        "colab": {
          "base_uri": "https://localhost:8080/",
          "height": 394
        },
        "id": "DI8LknAUHNKE",
        "outputId": "06a7aac1-6e75-4f4b-9bcc-4cdd7cc12f05"
      },
      "execution_count": 28,
      "outputs": [
        {
          "output_type": "execute_result",
          "data": {
            "text/plain": [
              "<folium.folium.Map at 0x7fa0c4eb6a90>"
            ],
            "text/html": [
              "<div style=\"width:100%;\"><div style=\"position:relative;width:100%;height:0;padding-bottom:60%;\"><span style=\"color:#565656\">Make this Notebook Trusted to load map: File -> Trust Notebook</span><iframe srcdoc=\"&lt;!DOCTYPE html&gt;\n",
              "&lt;html&gt;\n",
              "&lt;head&gt;\n",
              "    \n",
              "    &lt;meta http-equiv=&quot;content-type&quot; content=&quot;text/html; charset=UTF-8&quot; /&gt;\n",
              "    \n",
              "        &lt;script&gt;\n",
              "            L_NO_TOUCH = false;\n",
              "            L_DISABLE_3D = false;\n",
              "        &lt;/script&gt;\n",
              "    \n",
              "    &lt;style&gt;html, body {width: 100%;height: 100%;margin: 0;padding: 0;}&lt;/style&gt;\n",
              "    &lt;style&gt;#map {position:absolute;top:0;bottom:0;right:0;left:0;}&lt;/style&gt;\n",
              "    &lt;script src=&quot;https://cdn.jsdelivr.net/npm/leaflet@1.6.0/dist/leaflet.js&quot;&gt;&lt;/script&gt;\n",
              "    &lt;script src=&quot;https://code.jquery.com/jquery-1.12.4.min.js&quot;&gt;&lt;/script&gt;\n",
              "    &lt;script src=&quot;https://maxcdn.bootstrapcdn.com/bootstrap/3.2.0/js/bootstrap.min.js&quot;&gt;&lt;/script&gt;\n",
              "    &lt;script src=&quot;https://cdnjs.cloudflare.com/ajax/libs/Leaflet.awesome-markers/2.0.2/leaflet.awesome-markers.js&quot;&gt;&lt;/script&gt;\n",
              "    &lt;link rel=&quot;stylesheet&quot; href=&quot;https://cdn.jsdelivr.net/npm/leaflet@1.6.0/dist/leaflet.css&quot;/&gt;\n",
              "    &lt;link rel=&quot;stylesheet&quot; href=&quot;https://maxcdn.bootstrapcdn.com/bootstrap/3.2.0/css/bootstrap.min.css&quot;/&gt;\n",
              "    &lt;link rel=&quot;stylesheet&quot; href=&quot;https://maxcdn.bootstrapcdn.com/bootstrap/3.2.0/css/bootstrap-theme.min.css&quot;/&gt;\n",
              "    &lt;link rel=&quot;stylesheet&quot; href=&quot;https://maxcdn.bootstrapcdn.com/font-awesome/4.6.3/css/font-awesome.min.css&quot;/&gt;\n",
              "    &lt;link rel=&quot;stylesheet&quot; href=&quot;https://cdnjs.cloudflare.com/ajax/libs/Leaflet.awesome-markers/2.0.2/leaflet.awesome-markers.css&quot;/&gt;\n",
              "    &lt;link rel=&quot;stylesheet&quot; href=&quot;https://cdn.jsdelivr.net/gh/python-visualization/folium/folium/templates/leaflet.awesome.rotate.min.css&quot;/&gt;\n",
              "    \n",
              "            &lt;meta name=&quot;viewport&quot; content=&quot;width=device-width,\n",
              "                initial-scale=1.0, maximum-scale=1.0, user-scalable=no&quot; /&gt;\n",
              "            &lt;style&gt;\n",
              "                #map_bc906b6ff240406766098dd900e8138c {\n",
              "                    position: relative;\n",
              "                    width: 100.0%;\n",
              "                    height: 100.0%;\n",
              "                    left: 0.0%;\n",
              "                    top: 0.0%;\n",
              "                }\n",
              "            &lt;/style&gt;\n",
              "        \n",
              "&lt;/head&gt;\n",
              "&lt;body&gt;\n",
              "    \n",
              "    \n",
              "            &lt;div class=&quot;folium-map&quot; id=&quot;map_bc906b6ff240406766098dd900e8138c&quot; &gt;&lt;/div&gt;\n",
              "        \n",
              "&lt;/body&gt;\n",
              "&lt;script&gt;\n",
              "    \n",
              "    \n",
              "            var map_bc906b6ff240406766098dd900e8138c = L.map(\n",
              "                &quot;map_bc906b6ff240406766098dd900e8138c&quot;,\n",
              "                {\n",
              "                    center: [37.4560044656444, 126.705258070068],\n",
              "                    crs: L.CRS.EPSG3857,\n",
              "                    zoom: 15,\n",
              "                    zoomControl: true,\n",
              "                    preferCanvas: false,\n",
              "                }\n",
              "            );\n",
              "\n",
              "            \n",
              "\n",
              "        \n",
              "    \n",
              "            var tile_layer_ac2539d54f1857b4a24a68d689f7104a = L.tileLayer(\n",
              "                &quot;https://stamen-tiles-{s}.a.ssl.fastly.net/terrain/{z}/{x}/{y}.jpg&quot;,\n",
              "                {&quot;attribution&quot;: &quot;Map tiles by \\u003ca href=\\&quot;http://stamen.com\\&quot;\\u003eStamen Design\\u003c/a\\u003e, under \\u003ca href=\\&quot;http://creativecommons.org/licenses/by/3.0\\&quot;\\u003eCC BY 3.0\\u003c/a\\u003e. Data by \\u0026copy; \\u003ca href=\\&quot;http://openstreetmap.org\\&quot;\\u003eOpenStreetMap\\u003c/a\\u003e, under \\u003ca href=\\&quot;http://creativecommons.org/licenses/by-sa/3.0\\&quot;\\u003eCC BY SA\\u003c/a\\u003e.&quot;, &quot;detectRetina&quot;: false, &quot;maxNativeZoom&quot;: 18, &quot;maxZoom&quot;: 18, &quot;minZoom&quot;: 0, &quot;noWrap&quot;: false, &quot;opacity&quot;: 1, &quot;subdomains&quot;: &quot;abc&quot;, &quot;tms&quot;: false}\n",
              "            ).addTo(map_bc906b6ff240406766098dd900e8138c);\n",
              "        \n",
              "    \n",
              "            var circle_124b44ee6912b610daf4ecd018d74392 = L.circle(\n",
              "                [37.4560044656444, 126.705258070068],\n",
              "                {&quot;bubblingMouseEvents&quot;: true, &quot;color&quot;: &quot;crimson&quot;, &quot;dashArray&quot;: null, &quot;dashOffset&quot;: null, &quot;fill&quot;: true, &quot;fillColor&quot;: &quot;crimson&quot;, &quot;fillOpacity&quot;: 0.2, &quot;fillRule&quot;: &quot;evenodd&quot;, &quot;lineCap&quot;: &quot;round&quot;, &quot;lineJoin&quot;: &quot;round&quot;, &quot;opacity&quot;: 1.0, &quot;radius&quot;: 200, &quot;stroke&quot;: true, &quot;weight&quot;: 3}\n",
              "            ).addTo(map_bc906b6ff240406766098dd900e8138c);\n",
              "        \n",
              "    \n",
              "        var popup_d86c96765a071bf1effd4dec3169740b = L.popup({&quot;maxWidth&quot;: 150});\n",
              "\n",
              "        \n",
              "            var html_a90cdbd6e5e298336ecccf4e4274d420 = $(`&lt;div id=&quot;html_a90cdbd6e5e298336ecccf4e4274d420&quot; style=&quot;width: 100.0%; height: 100.0%;&quot;&gt;37.4560044656444&lt;/div&gt;`)[0];\n",
              "            popup_d86c96765a071bf1effd4dec3169740b.setContent(html_a90cdbd6e5e298336ecccf4e4274d420);\n",
              "        \n",
              "\n",
              "        circle_124b44ee6912b610daf4ecd018d74392.bindPopup(popup_d86c96765a071bf1effd4dec3169740b)\n",
              "        ;\n",
              "\n",
              "        \n",
              "    \n",
              "    \n",
              "            circle_124b44ee6912b610daf4ecd018d74392.bindTooltip(\n",
              "                `&lt;div&gt;\n",
              "                     인천\n",
              "                 &lt;/div&gt;`,\n",
              "                {&quot;sticky&quot;: true}\n",
              "            );\n",
              "        \n",
              "    \n",
              "            var circle_1742d08334568cfdfa7d1426e737d9d0 = L.circle(\n",
              "                [37.4560044656444, 126.705258070068],\n",
              "                {&quot;bubblingMouseEvents&quot;: true, &quot;color&quot;: &quot;crimson&quot;, &quot;dashArray&quot;: null, &quot;dashOffset&quot;: null, &quot;fill&quot;: true, &quot;fillColor&quot;: &quot;crimson&quot;, &quot;fillOpacity&quot;: 0.2, &quot;fillRule&quot;: &quot;evenodd&quot;, &quot;lineCap&quot;: &quot;round&quot;, &quot;lineJoin&quot;: &quot;round&quot;, &quot;opacity&quot;: 1.0, &quot;radius&quot;: 200, &quot;stroke&quot;: true, &quot;weight&quot;: 3}\n",
              "            ).addTo(map_bc906b6ff240406766098dd900e8138c);\n",
              "        \n",
              "    \n",
              "        var popup_51d3aa6f4dd0e8e3749567d32ce3f7b8 = L.popup({&quot;maxWidth&quot;: 150});\n",
              "\n",
              "        \n",
              "            var html_2fe449ba919939e80b96f08de0b50140 = $(`&lt;div id=&quot;html_2fe449ba919939e80b96f08de0b50140&quot; style=&quot;width: 100.0%; height: 100.0%;&quot;&gt;37.4560044656444&lt;/div&gt;`)[0];\n",
              "            popup_51d3aa6f4dd0e8e3749567d32ce3f7b8.setContent(html_2fe449ba919939e80b96f08de0b50140);\n",
              "        \n",
              "\n",
              "        circle_1742d08334568cfdfa7d1426e737d9d0.bindPopup(popup_51d3aa6f4dd0e8e3749567d32ce3f7b8)\n",
              "        ;\n",
              "\n",
              "        \n",
              "    \n",
              "    \n",
              "            circle_1742d08334568cfdfa7d1426e737d9d0.bindTooltip(\n",
              "                `&lt;div&gt;\n",
              "                     인천\n",
              "                 &lt;/div&gt;`,\n",
              "                {&quot;sticky&quot;: true}\n",
              "            );\n",
              "        \n",
              "    \n",
              "            var circle_dcfab47749f094fbbeb2d3cfaf3e4eba = L.circle(\n",
              "                [37.4560044656444, 126.705258070068],\n",
              "                {&quot;bubblingMouseEvents&quot;: true, &quot;color&quot;: &quot;crimson&quot;, &quot;dashArray&quot;: null, &quot;dashOffset&quot;: null, &quot;fill&quot;: true, &quot;fillColor&quot;: &quot;crimson&quot;, &quot;fillOpacity&quot;: 0.2, &quot;fillRule&quot;: &quot;evenodd&quot;, &quot;lineCap&quot;: &quot;round&quot;, &quot;lineJoin&quot;: &quot;round&quot;, &quot;opacity&quot;: 1.0, &quot;radius&quot;: 200, &quot;stroke&quot;: true, &quot;weight&quot;: 3}\n",
              "            ).addTo(map_bc906b6ff240406766098dd900e8138c);\n",
              "        \n",
              "    \n",
              "        var popup_578e51b485a34f5b9cd70a324f2c9b9d = L.popup({&quot;maxWidth&quot;: 150});\n",
              "\n",
              "        \n",
              "            var html_223d3ae188d93231d7c190da3e61d82a = $(`&lt;div id=&quot;html_223d3ae188d93231d7c190da3e61d82a&quot; style=&quot;width: 100.0%; height: 100.0%;&quot;&gt;37.4560044656444&lt;/div&gt;`)[0];\n",
              "            popup_578e51b485a34f5b9cd70a324f2c9b9d.setContent(html_223d3ae188d93231d7c190da3e61d82a);\n",
              "        \n",
              "\n",
              "        circle_dcfab47749f094fbbeb2d3cfaf3e4eba.bindPopup(popup_578e51b485a34f5b9cd70a324f2c9b9d)\n",
              "        ;\n",
              "\n",
              "        \n",
              "    \n",
              "    \n",
              "            circle_dcfab47749f094fbbeb2d3cfaf3e4eba.bindTooltip(\n",
              "                `&lt;div&gt;\n",
              "                     인천\n",
              "                 &lt;/div&gt;`,\n",
              "                {&quot;sticky&quot;: true}\n",
              "            );\n",
              "        \n",
              "    \n",
              "            var circle_469d4fdc87341ba028e34faf00590534 = L.circle(\n",
              "                [37.4560044656444, 126.705258070068],\n",
              "                {&quot;bubblingMouseEvents&quot;: true, &quot;color&quot;: &quot;crimson&quot;, &quot;dashArray&quot;: null, &quot;dashOffset&quot;: null, &quot;fill&quot;: true, &quot;fillColor&quot;: &quot;crimson&quot;, &quot;fillOpacity&quot;: 0.2, &quot;fillRule&quot;: &quot;evenodd&quot;, &quot;lineCap&quot;: &quot;round&quot;, &quot;lineJoin&quot;: &quot;round&quot;, &quot;opacity&quot;: 1.0, &quot;radius&quot;: 200, &quot;stroke&quot;: true, &quot;weight&quot;: 3}\n",
              "            ).addTo(map_bc906b6ff240406766098dd900e8138c);\n",
              "        \n",
              "    \n",
              "        var popup_eba483a5745b5a43c4f0cb1547ba7aec = L.popup({&quot;maxWidth&quot;: 150});\n",
              "\n",
              "        \n",
              "            var html_58b01b5d2cdabfd445465316b30ae62a = $(`&lt;div id=&quot;html_58b01b5d2cdabfd445465316b30ae62a&quot; style=&quot;width: 100.0%; height: 100.0%;&quot;&gt;37.4560044656444&lt;/div&gt;`)[0];\n",
              "            popup_eba483a5745b5a43c4f0cb1547ba7aec.setContent(html_58b01b5d2cdabfd445465316b30ae62a);\n",
              "        \n",
              "\n",
              "        circle_469d4fdc87341ba028e34faf00590534.bindPopup(popup_eba483a5745b5a43c4f0cb1547ba7aec)\n",
              "        ;\n",
              "\n",
              "        \n",
              "    \n",
              "    \n",
              "            circle_469d4fdc87341ba028e34faf00590534.bindTooltip(\n",
              "                `&lt;div&gt;\n",
              "                     인천\n",
              "                 &lt;/div&gt;`,\n",
              "                {&quot;sticky&quot;: true}\n",
              "            );\n",
              "        \n",
              "    \n",
              "            var circle_f944a2fec137976198a465de0dbd97ec = L.circle(\n",
              "                [37.4560044656444, 126.705258070068],\n",
              "                {&quot;bubblingMouseEvents&quot;: true, &quot;color&quot;: &quot;crimson&quot;, &quot;dashArray&quot;: null, &quot;dashOffset&quot;: null, &quot;fill&quot;: true, &quot;fillColor&quot;: &quot;crimson&quot;, &quot;fillOpacity&quot;: 0.2, &quot;fillRule&quot;: &quot;evenodd&quot;, &quot;lineCap&quot;: &quot;round&quot;, &quot;lineJoin&quot;: &quot;round&quot;, &quot;opacity&quot;: 1.0, &quot;radius&quot;: 200, &quot;stroke&quot;: true, &quot;weight&quot;: 3}\n",
              "            ).addTo(map_bc906b6ff240406766098dd900e8138c);\n",
              "        \n",
              "    \n",
              "        var popup_37d70090346439f976b1b015bd8a6133 = L.popup({&quot;maxWidth&quot;: 150});\n",
              "\n",
              "        \n",
              "            var html_a4bd7e2d380395afeb379ba845bb24d6 = $(`&lt;div id=&quot;html_a4bd7e2d380395afeb379ba845bb24d6&quot; style=&quot;width: 100.0%; height: 100.0%;&quot;&gt;37.4560044656444&lt;/div&gt;`)[0];\n",
              "            popup_37d70090346439f976b1b015bd8a6133.setContent(html_a4bd7e2d380395afeb379ba845bb24d6);\n",
              "        \n",
              "\n",
              "        circle_f944a2fec137976198a465de0dbd97ec.bindPopup(popup_37d70090346439f976b1b015bd8a6133)\n",
              "        ;\n",
              "\n",
              "        \n",
              "    \n",
              "    \n",
              "            circle_f944a2fec137976198a465de0dbd97ec.bindTooltip(\n",
              "                `&lt;div&gt;\n",
              "                     인천\n",
              "                 &lt;/div&gt;`,\n",
              "                {&quot;sticky&quot;: true}\n",
              "            );\n",
              "        \n",
              "    \n",
              "            var circle_20558ffd99488fc62580c28951569efc = L.circle(\n",
              "                [37.4560044656444, 126.705258070068],\n",
              "                {&quot;bubblingMouseEvents&quot;: true, &quot;color&quot;: &quot;crimson&quot;, &quot;dashArray&quot;: null, &quot;dashOffset&quot;: null, &quot;fill&quot;: true, &quot;fillColor&quot;: &quot;crimson&quot;, &quot;fillOpacity&quot;: 0.2, &quot;fillRule&quot;: &quot;evenodd&quot;, &quot;lineCap&quot;: &quot;round&quot;, &quot;lineJoin&quot;: &quot;round&quot;, &quot;opacity&quot;: 1.0, &quot;radius&quot;: 200, &quot;stroke&quot;: true, &quot;weight&quot;: 3}\n",
              "            ).addTo(map_bc906b6ff240406766098dd900e8138c);\n",
              "        \n",
              "    \n",
              "        var popup_cacd8d0634b7f84dec708bc5c67d2a5c = L.popup({&quot;maxWidth&quot;: 150});\n",
              "\n",
              "        \n",
              "            var html_ffef68b2d3570384b4065d7737d089c8 = $(`&lt;div id=&quot;html_ffef68b2d3570384b4065d7737d089c8&quot; style=&quot;width: 100.0%; height: 100.0%;&quot;&gt;37.4560044656444&lt;/div&gt;`)[0];\n",
              "            popup_cacd8d0634b7f84dec708bc5c67d2a5c.setContent(html_ffef68b2d3570384b4065d7737d089c8);\n",
              "        \n",
              "\n",
              "        circle_20558ffd99488fc62580c28951569efc.bindPopup(popup_cacd8d0634b7f84dec708bc5c67d2a5c)\n",
              "        ;\n",
              "\n",
              "        \n",
              "    \n",
              "    \n",
              "            circle_20558ffd99488fc62580c28951569efc.bindTooltip(\n",
              "                `&lt;div&gt;\n",
              "                     인천\n",
              "                 &lt;/div&gt;`,\n",
              "                {&quot;sticky&quot;: true}\n",
              "            );\n",
              "        \n",
              "&lt;/script&gt;\n",
              "&lt;/html&gt;\" style=\"position:absolute;width:100%;height:100%;left:0;top:0;border:none !important;\" allowfullscreen webkitallowfullscreen mozallowfullscreen></iframe></div></div>"
            ]
          },
          "metadata": {},
          "execution_count": 28
        }
      ]
    },
    {
      "cell_type": "code",
      "source": [
        "addr = '월계로 173, 강북구'\n",
        "quote(addr)\n",
        "url = f'{search_url}?query={quote(addr)}'\n",
        "result = requests.get(url,\n",
        "                      headers={\"Authorization\": f'KakaoAK {api_key}'}).json()\n",
        "x_t = result['documents'][0]['address']['x']\n",
        "y_t = result['documents'][0]['address']['y']\n",
        "x_t\n",
        "y_t"
      ],
      "metadata": {
        "colab": {
          "base_uri": "https://localhost:8080/",
          "height": 35
        },
        "id": "5-7lra-BHNok",
        "outputId": "46a21eff-6f53-4429-f29a-f9e604d25f3b"
      },
      "execution_count": 29,
      "outputs": [
        {
          "output_type": "execute_result",
          "data": {
            "text/plain": [
              "'37.6202544613023'"
            ],
            "application/vnd.google.colaboratory.intrinsic+json": {
              "type": "string"
            }
          },
          "metadata": {},
          "execution_count": 29
        }
      ]
    },
    {
      "cell_type": "code",
      "source": [
        "map2 = folium.Map(location=[y_t, x_t], zoom_start=15,tiles='Stamen Terrain') #Stamen Terrain ,stamen Toner\n",
        "for i in df.index[:100]:\n",
        "  folium.Circle(radius =200,\n",
        "                location= [y_t,x_t],\n",
        "                popup= folium.Popup(y_t,x_t,max_width=150),\n",
        "                tooltip=addr,\n",
        "                color='crimson',\n",
        "                fill=True).add_to(map2)\n",
        "title= '<h3 align=\"center\" style=\"font-size:20[x]\"> 관공서 지도 표시</h3>'\n",
        "map.get_root().html.add_child(folium.Element(title))"
      ],
      "metadata": {
        "colab": {
          "base_uri": "https://localhost:8080/"
        },
        "id": "vFvI1rCaIjA8",
        "outputId": "25e8d8fc-c3f6-4253-8eff-b14c6e520911"
      },
      "execution_count": 30,
      "outputs": [
        {
          "output_type": "execute_result",
          "data": {
            "text/plain": [
              "<branca.element.Element at 0x7fa0c4ebe7f0>"
            ]
          },
          "metadata": {},
          "execution_count": 30
        }
      ]
    },
    {
      "cell_type": "code",
      "source": [
        "map2"
      ],
      "metadata": {
        "colab": {
          "base_uri": "https://localhost:8080/",
          "height": 394
        },
        "id": "XvsNtZ63JldZ",
        "outputId": "10381822-7b72-4ab7-93a8-cc02fb8de332"
      },
      "execution_count": 31,
      "outputs": [
        {
          "output_type": "execute_result",
          "data": {
            "text/plain": [
              "<folium.folium.Map at 0x7fa0c4e11070>"
            ],
            "text/html": [
              "<div style=\"width:100%;\"><div style=\"position:relative;width:100%;height:0;padding-bottom:60%;\"><span style=\"color:#565656\">Make this Notebook Trusted to load map: File -> Trust Notebook</span><iframe srcdoc=\"&lt;!DOCTYPE html&gt;\n",
              "&lt;html&gt;\n",
              "&lt;head&gt;\n",
              "    \n",
              "    &lt;meta http-equiv=&quot;content-type&quot; content=&quot;text/html; charset=UTF-8&quot; /&gt;\n",
              "    \n",
              "        &lt;script&gt;\n",
              "            L_NO_TOUCH = false;\n",
              "            L_DISABLE_3D = false;\n",
              "        &lt;/script&gt;\n",
              "    \n",
              "    &lt;style&gt;html, body {width: 100%;height: 100%;margin: 0;padding: 0;}&lt;/style&gt;\n",
              "    &lt;style&gt;#map {position:absolute;top:0;bottom:0;right:0;left:0;}&lt;/style&gt;\n",
              "    &lt;script src=&quot;https://cdn.jsdelivr.net/npm/leaflet@1.6.0/dist/leaflet.js&quot;&gt;&lt;/script&gt;\n",
              "    &lt;script src=&quot;https://code.jquery.com/jquery-1.12.4.min.js&quot;&gt;&lt;/script&gt;\n",
              "    &lt;script src=&quot;https://maxcdn.bootstrapcdn.com/bootstrap/3.2.0/js/bootstrap.min.js&quot;&gt;&lt;/script&gt;\n",
              "    &lt;script src=&quot;https://cdnjs.cloudflare.com/ajax/libs/Leaflet.awesome-markers/2.0.2/leaflet.awesome-markers.js&quot;&gt;&lt;/script&gt;\n",
              "    &lt;link rel=&quot;stylesheet&quot; href=&quot;https://cdn.jsdelivr.net/npm/leaflet@1.6.0/dist/leaflet.css&quot;/&gt;\n",
              "    &lt;link rel=&quot;stylesheet&quot; href=&quot;https://maxcdn.bootstrapcdn.com/bootstrap/3.2.0/css/bootstrap.min.css&quot;/&gt;\n",
              "    &lt;link rel=&quot;stylesheet&quot; href=&quot;https://maxcdn.bootstrapcdn.com/bootstrap/3.2.0/css/bootstrap-theme.min.css&quot;/&gt;\n",
              "    &lt;link rel=&quot;stylesheet&quot; href=&quot;https://maxcdn.bootstrapcdn.com/font-awesome/4.6.3/css/font-awesome.min.css&quot;/&gt;\n",
              "    &lt;link rel=&quot;stylesheet&quot; href=&quot;https://cdnjs.cloudflare.com/ajax/libs/Leaflet.awesome-markers/2.0.2/leaflet.awesome-markers.css&quot;/&gt;\n",
              "    &lt;link rel=&quot;stylesheet&quot; href=&quot;https://cdn.jsdelivr.net/gh/python-visualization/folium/folium/templates/leaflet.awesome.rotate.min.css&quot;/&gt;\n",
              "    \n",
              "            &lt;meta name=&quot;viewport&quot; content=&quot;width=device-width,\n",
              "                initial-scale=1.0, maximum-scale=1.0, user-scalable=no&quot; /&gt;\n",
              "            &lt;style&gt;\n",
              "                #map_01b26c0ddcbf7174fa546884c52e5016 {\n",
              "                    position: relative;\n",
              "                    width: 100.0%;\n",
              "                    height: 100.0%;\n",
              "                    left: 0.0%;\n",
              "                    top: 0.0%;\n",
              "                }\n",
              "            &lt;/style&gt;\n",
              "        \n",
              "&lt;/head&gt;\n",
              "&lt;body&gt;\n",
              "    \n",
              "    \n",
              "            &lt;div class=&quot;folium-map&quot; id=&quot;map_01b26c0ddcbf7174fa546884c52e5016&quot; &gt;&lt;/div&gt;\n",
              "        \n",
              "&lt;/body&gt;\n",
              "&lt;script&gt;\n",
              "    \n",
              "    \n",
              "            var map_01b26c0ddcbf7174fa546884c52e5016 = L.map(\n",
              "                &quot;map_01b26c0ddcbf7174fa546884c52e5016&quot;,\n",
              "                {\n",
              "                    center: [37.6202544613023, 127.044324732036],\n",
              "                    crs: L.CRS.EPSG3857,\n",
              "                    zoom: 15,\n",
              "                    zoomControl: true,\n",
              "                    preferCanvas: false,\n",
              "                }\n",
              "            );\n",
              "\n",
              "            \n",
              "\n",
              "        \n",
              "    \n",
              "            var tile_layer_9f43eb2e45b31b77a33b58ecf8a162b3 = L.tileLayer(\n",
              "                &quot;https://stamen-tiles-{s}.a.ssl.fastly.net/terrain/{z}/{x}/{y}.jpg&quot;,\n",
              "                {&quot;attribution&quot;: &quot;Map tiles by \\u003ca href=\\&quot;http://stamen.com\\&quot;\\u003eStamen Design\\u003c/a\\u003e, under \\u003ca href=\\&quot;http://creativecommons.org/licenses/by/3.0\\&quot;\\u003eCC BY 3.0\\u003c/a\\u003e. Data by \\u0026copy; \\u003ca href=\\&quot;http://openstreetmap.org\\&quot;\\u003eOpenStreetMap\\u003c/a\\u003e, under \\u003ca href=\\&quot;http://creativecommons.org/licenses/by-sa/3.0\\&quot;\\u003eCC BY SA\\u003c/a\\u003e.&quot;, &quot;detectRetina&quot;: false, &quot;maxNativeZoom&quot;: 18, &quot;maxZoom&quot;: 18, &quot;minZoom&quot;: 0, &quot;noWrap&quot;: false, &quot;opacity&quot;: 1, &quot;subdomains&quot;: &quot;abc&quot;, &quot;tms&quot;: false}\n",
              "            ).addTo(map_01b26c0ddcbf7174fa546884c52e5016);\n",
              "        \n",
              "    \n",
              "            var circle_3bb6d5ebf17a54e5597e54ce75c9a816 = L.circle(\n",
              "                [37.6202544613023, 127.044324732036],\n",
              "                {&quot;bubblingMouseEvents&quot;: true, &quot;color&quot;: &quot;crimson&quot;, &quot;dashArray&quot;: null, &quot;dashOffset&quot;: null, &quot;fill&quot;: true, &quot;fillColor&quot;: &quot;crimson&quot;, &quot;fillOpacity&quot;: 0.2, &quot;fillRule&quot;: &quot;evenodd&quot;, &quot;lineCap&quot;: &quot;round&quot;, &quot;lineJoin&quot;: &quot;round&quot;, &quot;opacity&quot;: 1.0, &quot;radius&quot;: 200, &quot;stroke&quot;: true, &quot;weight&quot;: 3}\n",
              "            ).addTo(map_01b26c0ddcbf7174fa546884c52e5016);\n",
              "        \n",
              "    \n",
              "        var popup_1c708a82c19f472c3b2605e2033d6fac = L.popup({&quot;maxWidth&quot;: 150});\n",
              "\n",
              "        \n",
              "            var html_5c306d3d5c9b44f009713de7cf493e93 = $(`&lt;div id=&quot;html_5c306d3d5c9b44f009713de7cf493e93&quot; style=&quot;width: 100.0%; height: 100.0%;&quot;&gt;37.6202544613023&lt;/div&gt;`)[0];\n",
              "            popup_1c708a82c19f472c3b2605e2033d6fac.setContent(html_5c306d3d5c9b44f009713de7cf493e93);\n",
              "        \n",
              "\n",
              "        circle_3bb6d5ebf17a54e5597e54ce75c9a816.bindPopup(popup_1c708a82c19f472c3b2605e2033d6fac)\n",
              "        ;\n",
              "\n",
              "        \n",
              "    \n",
              "    \n",
              "            circle_3bb6d5ebf17a54e5597e54ce75c9a816.bindTooltip(\n",
              "                `&lt;div&gt;\n",
              "                     월계로 173, 강북구\n",
              "                 &lt;/div&gt;`,\n",
              "                {&quot;sticky&quot;: true}\n",
              "            );\n",
              "        \n",
              "    \n",
              "            var circle_3ef223ab85a739fa0e4b10fc51c335b1 = L.circle(\n",
              "                [37.6202544613023, 127.044324732036],\n",
              "                {&quot;bubblingMouseEvents&quot;: true, &quot;color&quot;: &quot;crimson&quot;, &quot;dashArray&quot;: null, &quot;dashOffset&quot;: null, &quot;fill&quot;: true, &quot;fillColor&quot;: &quot;crimson&quot;, &quot;fillOpacity&quot;: 0.2, &quot;fillRule&quot;: &quot;evenodd&quot;, &quot;lineCap&quot;: &quot;round&quot;, &quot;lineJoin&quot;: &quot;round&quot;, &quot;opacity&quot;: 1.0, &quot;radius&quot;: 200, &quot;stroke&quot;: true, &quot;weight&quot;: 3}\n",
              "            ).addTo(map_01b26c0ddcbf7174fa546884c52e5016);\n",
              "        \n",
              "    \n",
              "        var popup_d37848441a9461bcb2dea07d6f217e0e = L.popup({&quot;maxWidth&quot;: 150});\n",
              "\n",
              "        \n",
              "            var html_f310db857f549086626b2bb08f867b94 = $(`&lt;div id=&quot;html_f310db857f549086626b2bb08f867b94&quot; style=&quot;width: 100.0%; height: 100.0%;&quot;&gt;37.6202544613023&lt;/div&gt;`)[0];\n",
              "            popup_d37848441a9461bcb2dea07d6f217e0e.setContent(html_f310db857f549086626b2bb08f867b94);\n",
              "        \n",
              "\n",
              "        circle_3ef223ab85a739fa0e4b10fc51c335b1.bindPopup(popup_d37848441a9461bcb2dea07d6f217e0e)\n",
              "        ;\n",
              "\n",
              "        \n",
              "    \n",
              "    \n",
              "            circle_3ef223ab85a739fa0e4b10fc51c335b1.bindTooltip(\n",
              "                `&lt;div&gt;\n",
              "                     월계로 173, 강북구\n",
              "                 &lt;/div&gt;`,\n",
              "                {&quot;sticky&quot;: true}\n",
              "            );\n",
              "        \n",
              "    \n",
              "            var circle_743a733606652280529cde73d6f7bb0c = L.circle(\n",
              "                [37.6202544613023, 127.044324732036],\n",
              "                {&quot;bubblingMouseEvents&quot;: true, &quot;color&quot;: &quot;crimson&quot;, &quot;dashArray&quot;: null, &quot;dashOffset&quot;: null, &quot;fill&quot;: true, &quot;fillColor&quot;: &quot;crimson&quot;, &quot;fillOpacity&quot;: 0.2, &quot;fillRule&quot;: &quot;evenodd&quot;, &quot;lineCap&quot;: &quot;round&quot;, &quot;lineJoin&quot;: &quot;round&quot;, &quot;opacity&quot;: 1.0, &quot;radius&quot;: 200, &quot;stroke&quot;: true, &quot;weight&quot;: 3}\n",
              "            ).addTo(map_01b26c0ddcbf7174fa546884c52e5016);\n",
              "        \n",
              "    \n",
              "        var popup_30dc3f9a4c6986b7338c64b275edc4cd = L.popup({&quot;maxWidth&quot;: 150});\n",
              "\n",
              "        \n",
              "            var html_692e438e2045de8e23988ae2490698d3 = $(`&lt;div id=&quot;html_692e438e2045de8e23988ae2490698d3&quot; style=&quot;width: 100.0%; height: 100.0%;&quot;&gt;37.6202544613023&lt;/div&gt;`)[0];\n",
              "            popup_30dc3f9a4c6986b7338c64b275edc4cd.setContent(html_692e438e2045de8e23988ae2490698d3);\n",
              "        \n",
              "\n",
              "        circle_743a733606652280529cde73d6f7bb0c.bindPopup(popup_30dc3f9a4c6986b7338c64b275edc4cd)\n",
              "        ;\n",
              "\n",
              "        \n",
              "    \n",
              "    \n",
              "            circle_743a733606652280529cde73d6f7bb0c.bindTooltip(\n",
              "                `&lt;div&gt;\n",
              "                     월계로 173, 강북구\n",
              "                 &lt;/div&gt;`,\n",
              "                {&quot;sticky&quot;: true}\n",
              "            );\n",
              "        \n",
              "    \n",
              "            var circle_ccc5c67c0b67ef37734e3d7cc6d34207 = L.circle(\n",
              "                [37.6202544613023, 127.044324732036],\n",
              "                {&quot;bubblingMouseEvents&quot;: true, &quot;color&quot;: &quot;crimson&quot;, &quot;dashArray&quot;: null, &quot;dashOffset&quot;: null, &quot;fill&quot;: true, &quot;fillColor&quot;: &quot;crimson&quot;, &quot;fillOpacity&quot;: 0.2, &quot;fillRule&quot;: &quot;evenodd&quot;, &quot;lineCap&quot;: &quot;round&quot;, &quot;lineJoin&quot;: &quot;round&quot;, &quot;opacity&quot;: 1.0, &quot;radius&quot;: 200, &quot;stroke&quot;: true, &quot;weight&quot;: 3}\n",
              "            ).addTo(map_01b26c0ddcbf7174fa546884c52e5016);\n",
              "        \n",
              "    \n",
              "        var popup_ce28be8a629f5cd5ec89767a192f04d2 = L.popup({&quot;maxWidth&quot;: 150});\n",
              "\n",
              "        \n",
              "            var html_0bf738a9b83854eef631c88d0438aa57 = $(`&lt;div id=&quot;html_0bf738a9b83854eef631c88d0438aa57&quot; style=&quot;width: 100.0%; height: 100.0%;&quot;&gt;37.6202544613023&lt;/div&gt;`)[0];\n",
              "            popup_ce28be8a629f5cd5ec89767a192f04d2.setContent(html_0bf738a9b83854eef631c88d0438aa57);\n",
              "        \n",
              "\n",
              "        circle_ccc5c67c0b67ef37734e3d7cc6d34207.bindPopup(popup_ce28be8a629f5cd5ec89767a192f04d2)\n",
              "        ;\n",
              "\n",
              "        \n",
              "    \n",
              "    \n",
              "            circle_ccc5c67c0b67ef37734e3d7cc6d34207.bindTooltip(\n",
              "                `&lt;div&gt;\n",
              "                     월계로 173, 강북구\n",
              "                 &lt;/div&gt;`,\n",
              "                {&quot;sticky&quot;: true}\n",
              "            );\n",
              "        \n",
              "    \n",
              "            var circle_590b31c0863ee07a33370b67418bfb6c = L.circle(\n",
              "                [37.6202544613023, 127.044324732036],\n",
              "                {&quot;bubblingMouseEvents&quot;: true, &quot;color&quot;: &quot;crimson&quot;, &quot;dashArray&quot;: null, &quot;dashOffset&quot;: null, &quot;fill&quot;: true, &quot;fillColor&quot;: &quot;crimson&quot;, &quot;fillOpacity&quot;: 0.2, &quot;fillRule&quot;: &quot;evenodd&quot;, &quot;lineCap&quot;: &quot;round&quot;, &quot;lineJoin&quot;: &quot;round&quot;, &quot;opacity&quot;: 1.0, &quot;radius&quot;: 200, &quot;stroke&quot;: true, &quot;weight&quot;: 3}\n",
              "            ).addTo(map_01b26c0ddcbf7174fa546884c52e5016);\n",
              "        \n",
              "    \n",
              "        var popup_8890bb7dabf5876f773cc4572a00df1f = L.popup({&quot;maxWidth&quot;: 150});\n",
              "\n",
              "        \n",
              "            var html_ba633c9b2c1afa524700b59437f6cd4b = $(`&lt;div id=&quot;html_ba633c9b2c1afa524700b59437f6cd4b&quot; style=&quot;width: 100.0%; height: 100.0%;&quot;&gt;37.6202544613023&lt;/div&gt;`)[0];\n",
              "            popup_8890bb7dabf5876f773cc4572a00df1f.setContent(html_ba633c9b2c1afa524700b59437f6cd4b);\n",
              "        \n",
              "\n",
              "        circle_590b31c0863ee07a33370b67418bfb6c.bindPopup(popup_8890bb7dabf5876f773cc4572a00df1f)\n",
              "        ;\n",
              "\n",
              "        \n",
              "    \n",
              "    \n",
              "            circle_590b31c0863ee07a33370b67418bfb6c.bindTooltip(\n",
              "                `&lt;div&gt;\n",
              "                     월계로 173, 강북구\n",
              "                 &lt;/div&gt;`,\n",
              "                {&quot;sticky&quot;: true}\n",
              "            );\n",
              "        \n",
              "    \n",
              "            var circle_2862dd6bd789d2c69ae76a77a275bd85 = L.circle(\n",
              "                [37.6202544613023, 127.044324732036],\n",
              "                {&quot;bubblingMouseEvents&quot;: true, &quot;color&quot;: &quot;crimson&quot;, &quot;dashArray&quot;: null, &quot;dashOffset&quot;: null, &quot;fill&quot;: true, &quot;fillColor&quot;: &quot;crimson&quot;, &quot;fillOpacity&quot;: 0.2, &quot;fillRule&quot;: &quot;evenodd&quot;, &quot;lineCap&quot;: &quot;round&quot;, &quot;lineJoin&quot;: &quot;round&quot;, &quot;opacity&quot;: 1.0, &quot;radius&quot;: 200, &quot;stroke&quot;: true, &quot;weight&quot;: 3}\n",
              "            ).addTo(map_01b26c0ddcbf7174fa546884c52e5016);\n",
              "        \n",
              "    \n",
              "        var popup_8edf94cab8894d6ef20ddacb4e61f7ee = L.popup({&quot;maxWidth&quot;: 150});\n",
              "\n",
              "        \n",
              "            var html_c96540c1b92db1af86de5a9bc5c3ea34 = $(`&lt;div id=&quot;html_c96540c1b92db1af86de5a9bc5c3ea34&quot; style=&quot;width: 100.0%; height: 100.0%;&quot;&gt;37.6202544613023&lt;/div&gt;`)[0];\n",
              "            popup_8edf94cab8894d6ef20ddacb4e61f7ee.setContent(html_c96540c1b92db1af86de5a9bc5c3ea34);\n",
              "        \n",
              "\n",
              "        circle_2862dd6bd789d2c69ae76a77a275bd85.bindPopup(popup_8edf94cab8894d6ef20ddacb4e61f7ee)\n",
              "        ;\n",
              "\n",
              "        \n",
              "    \n",
              "    \n",
              "            circle_2862dd6bd789d2c69ae76a77a275bd85.bindTooltip(\n",
              "                `&lt;div&gt;\n",
              "                     월계로 173, 강북구\n",
              "                 &lt;/div&gt;`,\n",
              "                {&quot;sticky&quot;: true}\n",
              "            );\n",
              "        \n",
              "&lt;/script&gt;\n",
              "&lt;/html&gt;\" style=\"position:absolute;width:100%;height:100%;left:0;top:0;border:none !important;\" allowfullscreen webkitallowfullscreen mozallowfullscreen></iframe></div></div>"
            ]
          },
          "metadata": {},
          "execution_count": 31
        }
      ]
    },
    {
      "cell_type": "code",
      "source": [
        "data = {'도로명주소' :[],\n",
        "        '맛집이름' :[],\n",
        "        'x':[],\n",
        "        'y':[]}\n",
        "\n"
      ],
      "metadata": {
        "id": "v3C0LDwXJopj"
      },
      "execution_count": 37,
      "outputs": []
    },
    {
      "cell_type": "code",
      "source": [
        "df = pd.DataFrame(data)"
      ],
      "metadata": {
        "id": "NYjnzyWoKLqt"
      },
      "execution_count": 38,
      "outputs": []
    },
    {
      "cell_type": "code",
      "source": [
        "df_add = df.T\n",
        "df_add"
      ],
      "metadata": {
        "colab": {
          "base_uri": "https://localhost:8080/",
          "height": 157
        },
        "id": "HD5g7W-8QBv2",
        "outputId": "56289089-5933-4203-fc87-cf47ab705923"
      },
      "execution_count": 39,
      "outputs": [
        {
          "output_type": "execute_result",
          "data": {
            "text/plain": [
              "Empty DataFrame\n",
              "Columns: []\n",
              "Index: [도로명주소, 맛집이름, x, y]"
            ],
            "text/html": [
              "\n",
              "  <div id=\"df-88b62483-95a0-4374-94a7-8ee65849fdc7\">\n",
              "    <div class=\"colab-df-container\">\n",
              "      <div>\n",
              "<style scoped>\n",
              "    .dataframe tbody tr th:only-of-type {\n",
              "        vertical-align: middle;\n",
              "    }\n",
              "\n",
              "    .dataframe tbody tr th {\n",
              "        vertical-align: top;\n",
              "    }\n",
              "\n",
              "    .dataframe thead th {\n",
              "        text-align: right;\n",
              "    }\n",
              "</style>\n",
              "<table border=\"1\" class=\"dataframe\">\n",
              "  <thead>\n",
              "    <tr style=\"text-align: right;\">\n",
              "      <th></th>\n",
              "    </tr>\n",
              "  </thead>\n",
              "  <tbody>\n",
              "    <tr>\n",
              "      <th>도로명주소</th>\n",
              "    </tr>\n",
              "    <tr>\n",
              "      <th>맛집이름</th>\n",
              "    </tr>\n",
              "    <tr>\n",
              "      <th>x</th>\n",
              "    </tr>\n",
              "    <tr>\n",
              "      <th>y</th>\n",
              "    </tr>\n",
              "  </tbody>\n",
              "</table>\n",
              "</div>\n",
              "      <button class=\"colab-df-convert\" onclick=\"convertToInteractive('df-88b62483-95a0-4374-94a7-8ee65849fdc7')\"\n",
              "              title=\"Convert this dataframe to an interactive table.\"\n",
              "              style=\"display:none;\">\n",
              "        \n",
              "  <svg xmlns=\"http://www.w3.org/2000/svg\" height=\"24px\"viewBox=\"0 0 24 24\"\n",
              "       width=\"24px\">\n",
              "    <path d=\"M0 0h24v24H0V0z\" fill=\"none\"/>\n",
              "    <path d=\"M18.56 5.44l.94 2.06.94-2.06 2.06-.94-2.06-.94-.94-2.06-.94 2.06-2.06.94zm-11 1L8.5 8.5l.94-2.06 2.06-.94-2.06-.94L8.5 2.5l-.94 2.06-2.06.94zm10 10l.94 2.06.94-2.06 2.06-.94-2.06-.94-.94-2.06-.94 2.06-2.06.94z\"/><path d=\"M17.41 7.96l-1.37-1.37c-.4-.4-.92-.59-1.43-.59-.52 0-1.04.2-1.43.59L10.3 9.45l-7.72 7.72c-.78.78-.78 2.05 0 2.83L4 21.41c.39.39.9.59 1.41.59.51 0 1.02-.2 1.41-.59l7.78-7.78 2.81-2.81c.8-.78.8-2.07 0-2.86zM5.41 20L4 18.59l7.72-7.72 1.47 1.35L5.41 20z\"/>\n",
              "  </svg>\n",
              "      </button>\n",
              "      \n",
              "  <style>\n",
              "    .colab-df-container {\n",
              "      display:flex;\n",
              "      flex-wrap:wrap;\n",
              "      gap: 12px;\n",
              "    }\n",
              "\n",
              "    .colab-df-convert {\n",
              "      background-color: #E8F0FE;\n",
              "      border: none;\n",
              "      border-radius: 50%;\n",
              "      cursor: pointer;\n",
              "      display: none;\n",
              "      fill: #1967D2;\n",
              "      height: 32px;\n",
              "      padding: 0 0 0 0;\n",
              "      width: 32px;\n",
              "    }\n",
              "\n",
              "    .colab-df-convert:hover {\n",
              "      background-color: #E2EBFA;\n",
              "      box-shadow: 0px 1px 2px rgba(60, 64, 67, 0.3), 0px 1px 3px 1px rgba(60, 64, 67, 0.15);\n",
              "      fill: #174EA6;\n",
              "    }\n",
              "\n",
              "    [theme=dark] .colab-df-convert {\n",
              "      background-color: #3B4455;\n",
              "      fill: #D2E3FC;\n",
              "    }\n",
              "\n",
              "    [theme=dark] .colab-df-convert:hover {\n",
              "      background-color: #434B5C;\n",
              "      box-shadow: 0px 1px 3px 1px rgba(0, 0, 0, 0.15);\n",
              "      filter: drop-shadow(0px 1px 2px rgba(0, 0, 0, 0.3));\n",
              "      fill: #FFFFFF;\n",
              "    }\n",
              "  </style>\n",
              "\n",
              "      <script>\n",
              "        const buttonEl =\n",
              "          document.querySelector('#df-88b62483-95a0-4374-94a7-8ee65849fdc7 button.colab-df-convert');\n",
              "        buttonEl.style.display =\n",
              "          google.colab.kernel.accessAllowed ? 'block' : 'none';\n",
              "\n",
              "        async function convertToInteractive(key) {\n",
              "          const element = document.querySelector('#df-88b62483-95a0-4374-94a7-8ee65849fdc7');\n",
              "          const dataTable =\n",
              "            await google.colab.kernel.invokeFunction('convertToInteractive',\n",
              "                                                     [key], {});\n",
              "          if (!dataTable) return;\n",
              "\n",
              "          const docLinkHtml = 'Like what you see? Visit the ' +\n",
              "            '<a target=\"_blank\" href=https://colab.research.google.com/notebooks/data_table.ipynb>data table notebook</a>'\n",
              "            + ' to learn more about interactive tables.';\n",
              "          element.innerHTML = '';\n",
              "          dataTable['output_type'] = 'display_data';\n",
              "          await google.colab.output.renderOutput(dataTable, element);\n",
              "          const docLink = document.createElement('div');\n",
              "          docLink.innerHTML = docLinkHtml;\n",
              "          element.appendChild(docLink);\n",
              "        }\n",
              "      </script>\n",
              "    </div>\n",
              "  </div>\n",
              "  "
            ]
          },
          "metadata": {},
          "execution_count": 39
        }
      ]
    },
    {
      "cell_type": "code",
      "source": [
        "def add_m(x,y,z):\n",
        "  addr = y\n",
        "  quote(addr)\n",
        "  url = f'{search_url}?query={quote(addr)}'\n",
        "  result = requests.get(url,\n",
        "                        headers={\"Authorization\": f'KakaoAK {api_key}'}).json()\n",
        "  x_ = result['documents'][0]['address']['y']\n",
        "  y_ = result['documents'][0]['address']['x']\n",
        "  df_add[x] = [str(y),str(z),x_,y_]\n",
        "  return df_add\n",
        "\n"
      ],
      "metadata": {
        "id": "Llqh9b0dKRW1"
      },
      "execution_count": 60,
      "outputs": []
    },
    {
      "cell_type": "code",
      "source": [
        "add_m(0,'서울특별시 서대문구 신촌로 79','KFC 신촌역점')"
      ],
      "metadata": {
        "colab": {
          "base_uri": "https://localhost:8080/",
          "height": 175
        },
        "id": "wIqKKPxUMRXr",
        "outputId": "7fc2e30b-e346-43cd-db93-8066f46c5983"
      },
      "execution_count": 61,
      "outputs": [
        {
          "output_type": "execute_result",
          "data": {
            "text/plain": [
              "                       0                   1\n",
              "도로명주소  서울특별시 서대문구 신촌로 79  서울특별시 남가좌1동 102-16\n",
              "맛집이름            KFC 신촌역점              조마루감자탕\n",
              "x        37.556000258611     126.91630392804\n",
              "y       126.935189216315    37.5691777965687"
            ],
            "text/html": [
              "\n",
              "  <div id=\"df-a93279fb-74b8-4c6c-8810-2030fae4ae06\">\n",
              "    <div class=\"colab-df-container\">\n",
              "      <div>\n",
              "<style scoped>\n",
              "    .dataframe tbody tr th:only-of-type {\n",
              "        vertical-align: middle;\n",
              "    }\n",
              "\n",
              "    .dataframe tbody tr th {\n",
              "        vertical-align: top;\n",
              "    }\n",
              "\n",
              "    .dataframe thead th {\n",
              "        text-align: right;\n",
              "    }\n",
              "</style>\n",
              "<table border=\"1\" class=\"dataframe\">\n",
              "  <thead>\n",
              "    <tr style=\"text-align: right;\">\n",
              "      <th></th>\n",
              "      <th>0</th>\n",
              "      <th>1</th>\n",
              "    </tr>\n",
              "  </thead>\n",
              "  <tbody>\n",
              "    <tr>\n",
              "      <th>도로명주소</th>\n",
              "      <td>서울특별시 서대문구 신촌로 79</td>\n",
              "      <td>서울특별시 남가좌1동 102-16</td>\n",
              "    </tr>\n",
              "    <tr>\n",
              "      <th>맛집이름</th>\n",
              "      <td>KFC 신촌역점</td>\n",
              "      <td>조마루감자탕</td>\n",
              "    </tr>\n",
              "    <tr>\n",
              "      <th>x</th>\n",
              "      <td>37.556000258611</td>\n",
              "      <td>126.91630392804</td>\n",
              "    </tr>\n",
              "    <tr>\n",
              "      <th>y</th>\n",
              "      <td>126.935189216315</td>\n",
              "      <td>37.5691777965687</td>\n",
              "    </tr>\n",
              "  </tbody>\n",
              "</table>\n",
              "</div>\n",
              "      <button class=\"colab-df-convert\" onclick=\"convertToInteractive('df-a93279fb-74b8-4c6c-8810-2030fae4ae06')\"\n",
              "              title=\"Convert this dataframe to an interactive table.\"\n",
              "              style=\"display:none;\">\n",
              "        \n",
              "  <svg xmlns=\"http://www.w3.org/2000/svg\" height=\"24px\"viewBox=\"0 0 24 24\"\n",
              "       width=\"24px\">\n",
              "    <path d=\"M0 0h24v24H0V0z\" fill=\"none\"/>\n",
              "    <path d=\"M18.56 5.44l.94 2.06.94-2.06 2.06-.94-2.06-.94-.94-2.06-.94 2.06-2.06.94zm-11 1L8.5 8.5l.94-2.06 2.06-.94-2.06-.94L8.5 2.5l-.94 2.06-2.06.94zm10 10l.94 2.06.94-2.06 2.06-.94-2.06-.94-.94-2.06-.94 2.06-2.06.94z\"/><path d=\"M17.41 7.96l-1.37-1.37c-.4-.4-.92-.59-1.43-.59-.52 0-1.04.2-1.43.59L10.3 9.45l-7.72 7.72c-.78.78-.78 2.05 0 2.83L4 21.41c.39.39.9.59 1.41.59.51 0 1.02-.2 1.41-.59l7.78-7.78 2.81-2.81c.8-.78.8-2.07 0-2.86zM5.41 20L4 18.59l7.72-7.72 1.47 1.35L5.41 20z\"/>\n",
              "  </svg>\n",
              "      </button>\n",
              "      \n",
              "  <style>\n",
              "    .colab-df-container {\n",
              "      display:flex;\n",
              "      flex-wrap:wrap;\n",
              "      gap: 12px;\n",
              "    }\n",
              "\n",
              "    .colab-df-convert {\n",
              "      background-color: #E8F0FE;\n",
              "      border: none;\n",
              "      border-radius: 50%;\n",
              "      cursor: pointer;\n",
              "      display: none;\n",
              "      fill: #1967D2;\n",
              "      height: 32px;\n",
              "      padding: 0 0 0 0;\n",
              "      width: 32px;\n",
              "    }\n",
              "\n",
              "    .colab-df-convert:hover {\n",
              "      background-color: #E2EBFA;\n",
              "      box-shadow: 0px 1px 2px rgba(60, 64, 67, 0.3), 0px 1px 3px 1px rgba(60, 64, 67, 0.15);\n",
              "      fill: #174EA6;\n",
              "    }\n",
              "\n",
              "    [theme=dark] .colab-df-convert {\n",
              "      background-color: #3B4455;\n",
              "      fill: #D2E3FC;\n",
              "    }\n",
              "\n",
              "    [theme=dark] .colab-df-convert:hover {\n",
              "      background-color: #434B5C;\n",
              "      box-shadow: 0px 1px 3px 1px rgba(0, 0, 0, 0.15);\n",
              "      filter: drop-shadow(0px 1px 2px rgba(0, 0, 0, 0.3));\n",
              "      fill: #FFFFFF;\n",
              "    }\n",
              "  </style>\n",
              "\n",
              "      <script>\n",
              "        const buttonEl =\n",
              "          document.querySelector('#df-a93279fb-74b8-4c6c-8810-2030fae4ae06 button.colab-df-convert');\n",
              "        buttonEl.style.display =\n",
              "          google.colab.kernel.accessAllowed ? 'block' : 'none';\n",
              "\n",
              "        async function convertToInteractive(key) {\n",
              "          const element = document.querySelector('#df-a93279fb-74b8-4c6c-8810-2030fae4ae06');\n",
              "          const dataTable =\n",
              "            await google.colab.kernel.invokeFunction('convertToInteractive',\n",
              "                                                     [key], {});\n",
              "          if (!dataTable) return;\n",
              "\n",
              "          const docLinkHtml = 'Like what you see? Visit the ' +\n",
              "            '<a target=\"_blank\" href=https://colab.research.google.com/notebooks/data_table.ipynb>data table notebook</a>'\n",
              "            + ' to learn more about interactive tables.';\n",
              "          element.innerHTML = '';\n",
              "          dataTable['output_type'] = 'display_data';\n",
              "          await google.colab.output.renderOutput(dataTable, element);\n",
              "          const docLink = document.createElement('div');\n",
              "          docLink.innerHTML = docLinkHtml;\n",
              "          element.appendChild(docLink);\n",
              "        }\n",
              "      </script>\n",
              "    </div>\n",
              "  </div>\n",
              "  "
            ]
          },
          "metadata": {},
          "execution_count": 61
        }
      ]
    },
    {
      "cell_type": "code",
      "source": [
        "add_m(1,'서울특별시 남가좌1동 102-16','조마루감자탕')"
      ],
      "metadata": {
        "colab": {
          "base_uri": "https://localhost:8080/",
          "height": 175
        },
        "id": "92YUiBdkL909",
        "outputId": "31db54fb-9ca0-4474-864f-77a66e181794"
      },
      "execution_count": 62,
      "outputs": [
        {
          "output_type": "execute_result",
          "data": {
            "text/plain": [
              "                       0                   1\n",
              "도로명주소  서울특별시 서대문구 신촌로 79  서울특별시 남가좌1동 102-16\n",
              "맛집이름            KFC 신촌역점              조마루감자탕\n",
              "x        37.556000258611    37.5691777965687\n",
              "y       126.935189216315     126.91630392804"
            ],
            "text/html": [
              "\n",
              "  <div id=\"df-f61434bf-0071-470b-b4db-c183aeff3f0e\">\n",
              "    <div class=\"colab-df-container\">\n",
              "      <div>\n",
              "<style scoped>\n",
              "    .dataframe tbody tr th:only-of-type {\n",
              "        vertical-align: middle;\n",
              "    }\n",
              "\n",
              "    .dataframe tbody tr th {\n",
              "        vertical-align: top;\n",
              "    }\n",
              "\n",
              "    .dataframe thead th {\n",
              "        text-align: right;\n",
              "    }\n",
              "</style>\n",
              "<table border=\"1\" class=\"dataframe\">\n",
              "  <thead>\n",
              "    <tr style=\"text-align: right;\">\n",
              "      <th></th>\n",
              "      <th>0</th>\n",
              "      <th>1</th>\n",
              "    </tr>\n",
              "  </thead>\n",
              "  <tbody>\n",
              "    <tr>\n",
              "      <th>도로명주소</th>\n",
              "      <td>서울특별시 서대문구 신촌로 79</td>\n",
              "      <td>서울특별시 남가좌1동 102-16</td>\n",
              "    </tr>\n",
              "    <tr>\n",
              "      <th>맛집이름</th>\n",
              "      <td>KFC 신촌역점</td>\n",
              "      <td>조마루감자탕</td>\n",
              "    </tr>\n",
              "    <tr>\n",
              "      <th>x</th>\n",
              "      <td>37.556000258611</td>\n",
              "      <td>37.5691777965687</td>\n",
              "    </tr>\n",
              "    <tr>\n",
              "      <th>y</th>\n",
              "      <td>126.935189216315</td>\n",
              "      <td>126.91630392804</td>\n",
              "    </tr>\n",
              "  </tbody>\n",
              "</table>\n",
              "</div>\n",
              "      <button class=\"colab-df-convert\" onclick=\"convertToInteractive('df-f61434bf-0071-470b-b4db-c183aeff3f0e')\"\n",
              "              title=\"Convert this dataframe to an interactive table.\"\n",
              "              style=\"display:none;\">\n",
              "        \n",
              "  <svg xmlns=\"http://www.w3.org/2000/svg\" height=\"24px\"viewBox=\"0 0 24 24\"\n",
              "       width=\"24px\">\n",
              "    <path d=\"M0 0h24v24H0V0z\" fill=\"none\"/>\n",
              "    <path d=\"M18.56 5.44l.94 2.06.94-2.06 2.06-.94-2.06-.94-.94-2.06-.94 2.06-2.06.94zm-11 1L8.5 8.5l.94-2.06 2.06-.94-2.06-.94L8.5 2.5l-.94 2.06-2.06.94zm10 10l.94 2.06.94-2.06 2.06-.94-2.06-.94-.94-2.06-.94 2.06-2.06.94z\"/><path d=\"M17.41 7.96l-1.37-1.37c-.4-.4-.92-.59-1.43-.59-.52 0-1.04.2-1.43.59L10.3 9.45l-7.72 7.72c-.78.78-.78 2.05 0 2.83L4 21.41c.39.39.9.59 1.41.59.51 0 1.02-.2 1.41-.59l7.78-7.78 2.81-2.81c.8-.78.8-2.07 0-2.86zM5.41 20L4 18.59l7.72-7.72 1.47 1.35L5.41 20z\"/>\n",
              "  </svg>\n",
              "      </button>\n",
              "      \n",
              "  <style>\n",
              "    .colab-df-container {\n",
              "      display:flex;\n",
              "      flex-wrap:wrap;\n",
              "      gap: 12px;\n",
              "    }\n",
              "\n",
              "    .colab-df-convert {\n",
              "      background-color: #E8F0FE;\n",
              "      border: none;\n",
              "      border-radius: 50%;\n",
              "      cursor: pointer;\n",
              "      display: none;\n",
              "      fill: #1967D2;\n",
              "      height: 32px;\n",
              "      padding: 0 0 0 0;\n",
              "      width: 32px;\n",
              "    }\n",
              "\n",
              "    .colab-df-convert:hover {\n",
              "      background-color: #E2EBFA;\n",
              "      box-shadow: 0px 1px 2px rgba(60, 64, 67, 0.3), 0px 1px 3px 1px rgba(60, 64, 67, 0.15);\n",
              "      fill: #174EA6;\n",
              "    }\n",
              "\n",
              "    [theme=dark] .colab-df-convert {\n",
              "      background-color: #3B4455;\n",
              "      fill: #D2E3FC;\n",
              "    }\n",
              "\n",
              "    [theme=dark] .colab-df-convert:hover {\n",
              "      background-color: #434B5C;\n",
              "      box-shadow: 0px 1px 3px 1px rgba(0, 0, 0, 0.15);\n",
              "      filter: drop-shadow(0px 1px 2px rgba(0, 0, 0, 0.3));\n",
              "      fill: #FFFFFF;\n",
              "    }\n",
              "  </style>\n",
              "\n",
              "      <script>\n",
              "        const buttonEl =\n",
              "          document.querySelector('#df-f61434bf-0071-470b-b4db-c183aeff3f0e button.colab-df-convert');\n",
              "        buttonEl.style.display =\n",
              "          google.colab.kernel.accessAllowed ? 'block' : 'none';\n",
              "\n",
              "        async function convertToInteractive(key) {\n",
              "          const element = document.querySelector('#df-f61434bf-0071-470b-b4db-c183aeff3f0e');\n",
              "          const dataTable =\n",
              "            await google.colab.kernel.invokeFunction('convertToInteractive',\n",
              "                                                     [key], {});\n",
              "          if (!dataTable) return;\n",
              "\n",
              "          const docLinkHtml = 'Like what you see? Visit the ' +\n",
              "            '<a target=\"_blank\" href=https://colab.research.google.com/notebooks/data_table.ipynb>data table notebook</a>'\n",
              "            + ' to learn more about interactive tables.';\n",
              "          element.innerHTML = '';\n",
              "          dataTable['output_type'] = 'display_data';\n",
              "          await google.colab.output.renderOutput(dataTable, element);\n",
              "          const docLink = document.createElement('div');\n",
              "          docLink.innerHTML = docLinkHtml;\n",
              "          element.appendChild(docLink);\n",
              "        }\n",
              "      </script>\n",
              "    </div>\n",
              "  </div>\n",
              "  "
            ]
          },
          "metadata": {},
          "execution_count": 62
        }
      ]
    },
    {
      "cell_type": "code",
      "source": [
        "ans =df_add.T"
      ],
      "metadata": {
        "id": "SGwaJY34Mkls"
      },
      "execution_count": 43,
      "outputs": []
    },
    {
      "cell_type": "code",
      "source": [
        "ans.x[0]"
      ],
      "metadata": {
        "colab": {
          "base_uri": "https://localhost:8080/",
          "height": 35
        },
        "id": "nlCUio16Mz5c",
        "outputId": "0269338c-322b-4481-efab-85fa153eb7e4"
      },
      "execution_count": 59,
      "outputs": [
        {
          "output_type": "execute_result",
          "data": {
            "text/plain": [
              "'126.935189216315'"
            ],
            "application/vnd.google.colaboratory.intrinsic+json": {
              "type": "string"
            }
          },
          "metadata": {},
          "execution_count": 59
        }
      ]
    },
    {
      "cell_type": "code",
      "source": [
        "map5 = folium.Map(location=[37.541, 126.987], zoom_start=12,tiles='Stamen Terrain') #Stamen Terrain ,stamen Toner\n",
        "for i in df.index[:100]:\n",
        "  folium.Circle(radius =200,\n",
        "                location= [ans.x[i],ans.y[i]],\n",
        "                popup= folium.Popup(ans.x[i],ans.y[i],max_width=150),\n",
        "                tooltip=ans.맛집이름[i],\n",
        "                color='crimson',\n",
        "                fill=True).add_to(map5)\n",
        "title= '<h3 align=\"center\" style=\"font-size:20[x]\"> 맛집조사</h3>'\n",
        "map.get_root().html.add_child(folium.Element(title))"
      ],
      "metadata": {
        "colab": {
          "base_uri": "https://localhost:8080/"
        },
        "id": "JFLea7DiM2iL",
        "outputId": "8a06a91d-3840-4066-ffa7-1a3782c914a4"
      },
      "execution_count": 63,
      "outputs": [
        {
          "output_type": "execute_result",
          "data": {
            "text/plain": [
              "<branca.element.Element at 0x7fa0c4ebe7f0>"
            ]
          },
          "metadata": {},
          "execution_count": 63
        }
      ]
    },
    {
      "cell_type": "code",
      "source": [
        "map5"
      ],
      "metadata": {
        "colab": {
          "base_uri": "https://localhost:8080/",
          "height": 394
        },
        "id": "gjSnpQGDNSQL",
        "outputId": "8ea21cde-3cb4-4513-9782-b4baf2cfe193"
      },
      "execution_count": 64,
      "outputs": [
        {
          "output_type": "execute_result",
          "data": {
            "text/plain": [
              "<folium.folium.Map at 0x7fa0c1beab20>"
            ],
            "text/html": [
              "<div style=\"width:100%;\"><div style=\"position:relative;width:100%;height:0;padding-bottom:60%;\"><span style=\"color:#565656\">Make this Notebook Trusted to load map: File -> Trust Notebook</span><iframe srcdoc=\"&lt;!DOCTYPE html&gt;\n",
              "&lt;html&gt;\n",
              "&lt;head&gt;\n",
              "    \n",
              "    &lt;meta http-equiv=&quot;content-type&quot; content=&quot;text/html; charset=UTF-8&quot; /&gt;\n",
              "    \n",
              "        &lt;script&gt;\n",
              "            L_NO_TOUCH = false;\n",
              "            L_DISABLE_3D = false;\n",
              "        &lt;/script&gt;\n",
              "    \n",
              "    &lt;style&gt;html, body {width: 100%;height: 100%;margin: 0;padding: 0;}&lt;/style&gt;\n",
              "    &lt;style&gt;#map {position:absolute;top:0;bottom:0;right:0;left:0;}&lt;/style&gt;\n",
              "    &lt;script src=&quot;https://cdn.jsdelivr.net/npm/leaflet@1.6.0/dist/leaflet.js&quot;&gt;&lt;/script&gt;\n",
              "    &lt;script src=&quot;https://code.jquery.com/jquery-1.12.4.min.js&quot;&gt;&lt;/script&gt;\n",
              "    &lt;script src=&quot;https://maxcdn.bootstrapcdn.com/bootstrap/3.2.0/js/bootstrap.min.js&quot;&gt;&lt;/script&gt;\n",
              "    &lt;script src=&quot;https://cdnjs.cloudflare.com/ajax/libs/Leaflet.awesome-markers/2.0.2/leaflet.awesome-markers.js&quot;&gt;&lt;/script&gt;\n",
              "    &lt;link rel=&quot;stylesheet&quot; href=&quot;https://cdn.jsdelivr.net/npm/leaflet@1.6.0/dist/leaflet.css&quot;/&gt;\n",
              "    &lt;link rel=&quot;stylesheet&quot; href=&quot;https://maxcdn.bootstrapcdn.com/bootstrap/3.2.0/css/bootstrap.min.css&quot;/&gt;\n",
              "    &lt;link rel=&quot;stylesheet&quot; href=&quot;https://maxcdn.bootstrapcdn.com/bootstrap/3.2.0/css/bootstrap-theme.min.css&quot;/&gt;\n",
              "    &lt;link rel=&quot;stylesheet&quot; href=&quot;https://maxcdn.bootstrapcdn.com/font-awesome/4.6.3/css/font-awesome.min.css&quot;/&gt;\n",
              "    &lt;link rel=&quot;stylesheet&quot; href=&quot;https://cdnjs.cloudflare.com/ajax/libs/Leaflet.awesome-markers/2.0.2/leaflet.awesome-markers.css&quot;/&gt;\n",
              "    &lt;link rel=&quot;stylesheet&quot; href=&quot;https://cdn.jsdelivr.net/gh/python-visualization/folium/folium/templates/leaflet.awesome.rotate.min.css&quot;/&gt;\n",
              "    \n",
              "            &lt;meta name=&quot;viewport&quot; content=&quot;width=device-width,\n",
              "                initial-scale=1.0, maximum-scale=1.0, user-scalable=no&quot; /&gt;\n",
              "            &lt;style&gt;\n",
              "                #map_9c23340485db4a31e1d7019d5153ad0c {\n",
              "                    position: relative;\n",
              "                    width: 100.0%;\n",
              "                    height: 100.0%;\n",
              "                    left: 0.0%;\n",
              "                    top: 0.0%;\n",
              "                }\n",
              "            &lt;/style&gt;\n",
              "        \n",
              "&lt;/head&gt;\n",
              "&lt;body&gt;\n",
              "    \n",
              "    \n",
              "            &lt;div class=&quot;folium-map&quot; id=&quot;map_9c23340485db4a31e1d7019d5153ad0c&quot; &gt;&lt;/div&gt;\n",
              "        \n",
              "&lt;/body&gt;\n",
              "&lt;script&gt;\n",
              "    \n",
              "    \n",
              "            var map_9c23340485db4a31e1d7019d5153ad0c = L.map(\n",
              "                &quot;map_9c23340485db4a31e1d7019d5153ad0c&quot;,\n",
              "                {\n",
              "                    center: [37.541, 126.987],\n",
              "                    crs: L.CRS.EPSG3857,\n",
              "                    zoom: 12,\n",
              "                    zoomControl: true,\n",
              "                    preferCanvas: false,\n",
              "                }\n",
              "            );\n",
              "\n",
              "            \n",
              "\n",
              "        \n",
              "    \n",
              "            var tile_layer_47bb38d39caa2fe67a69e351f420ae3c = L.tileLayer(\n",
              "                &quot;https://stamen-tiles-{s}.a.ssl.fastly.net/terrain/{z}/{x}/{y}.jpg&quot;,\n",
              "                {&quot;attribution&quot;: &quot;Map tiles by \\u003ca href=\\&quot;http://stamen.com\\&quot;\\u003eStamen Design\\u003c/a\\u003e, under \\u003ca href=\\&quot;http://creativecommons.org/licenses/by/3.0\\&quot;\\u003eCC BY 3.0\\u003c/a\\u003e. Data by \\u0026copy; \\u003ca href=\\&quot;http://openstreetmap.org\\&quot;\\u003eOpenStreetMap\\u003c/a\\u003e, under \\u003ca href=\\&quot;http://creativecommons.org/licenses/by-sa/3.0\\&quot;\\u003eCC BY SA\\u003c/a\\u003e.&quot;, &quot;detectRetina&quot;: false, &quot;maxNativeZoom&quot;: 18, &quot;maxZoom&quot;: 18, &quot;minZoom&quot;: 0, &quot;noWrap&quot;: false, &quot;opacity&quot;: 1, &quot;subdomains&quot;: &quot;abc&quot;, &quot;tms&quot;: false}\n",
              "            ).addTo(map_9c23340485db4a31e1d7019d5153ad0c);\n",
              "        \n",
              "&lt;/script&gt;\n",
              "&lt;/html&gt;\" style=\"position:absolute;width:100%;height:100%;left:0;top:0;border:none !important;\" allowfullscreen webkitallowfullscreen mozallowfullscreen></iframe></div></div>"
            ]
          },
          "metadata": {},
          "execution_count": 64
        }
      ]
    },
    {
      "cell_type": "code",
      "source": [],
      "metadata": {
        "id": "JOhfDdBiNfYb"
      },
      "execution_count": null,
      "outputs": []
    }
  ]
}