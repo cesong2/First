{
  "nbformat": 4,
  "nbformat_minor": 0,
  "metadata": {
    "colab": {
      "provenance": []
    },
    "kernelspec": {
      "name": "python3",
      "display_name": "Python 3"
    },
    "language_info": {
      "name": "python"
    }
  },
  "cells": [
    {
      "cell_type": "markdown",
      "source": [
        "# 행안부 도로명 주소 API\n",
        "* 건물명, 명소로부터 도로명 주소 구하기"
      ],
      "metadata": {
        "id": "3b5VPafOhALc"
      }
    },
    {
      "cell_type": "code",
      "execution_count": null,
      "metadata": {
        "colab": {
          "base_uri": "https://localhost:8080/",
          "height": 95
        },
        "id": "WT2puDJJXGd7",
        "outputId": "f747cf49-8936-46e7-a3a1-0000267b91e8"
      },
      "outputs": [
        {
          "output_type": "display_data",
          "data": {
            "text/plain": [
              "<IPython.core.display.HTML object>"
            ],
            "text/html": [
              "\n",
              "     <input type=\"file\" id=\"files-9db4d44a-9f7c-47cf-beca-396e018cf95c\" name=\"files[]\" multiple disabled\n",
              "        style=\"border:none\" />\n",
              "     <output id=\"result-9db4d44a-9f7c-47cf-beca-396e018cf95c\">\n",
              "      Upload widget is only available when the cell has been executed in the\n",
              "      current browser session. Please rerun this cell to enable.\n",
              "      </output>\n",
              "      <script>// Copyright 2017 Google LLC\n",
              "//\n",
              "// Licensed under the Apache License, Version 2.0 (the \"License\");\n",
              "// you may not use this file except in compliance with the License.\n",
              "// You may obtain a copy of the License at\n",
              "//\n",
              "//      http://www.apache.org/licenses/LICENSE-2.0\n",
              "//\n",
              "// Unless required by applicable law or agreed to in writing, software\n",
              "// distributed under the License is distributed on an \"AS IS\" BASIS,\n",
              "// WITHOUT WARRANTIES OR CONDITIONS OF ANY KIND, either express or implied.\n",
              "// See the License for the specific language governing permissions and\n",
              "// limitations under the License.\n",
              "\n",
              "/**\n",
              " * @fileoverview Helpers for google.colab Python module.\n",
              " */\n",
              "(function(scope) {\n",
              "function span(text, styleAttributes = {}) {\n",
              "  const element = document.createElement('span');\n",
              "  element.textContent = text;\n",
              "  for (const key of Object.keys(styleAttributes)) {\n",
              "    element.style[key] = styleAttributes[key];\n",
              "  }\n",
              "  return element;\n",
              "}\n",
              "\n",
              "// Max number of bytes which will be uploaded at a time.\n",
              "const MAX_PAYLOAD_SIZE = 100 * 1024;\n",
              "\n",
              "function _uploadFiles(inputId, outputId) {\n",
              "  const steps = uploadFilesStep(inputId, outputId);\n",
              "  const outputElement = document.getElementById(outputId);\n",
              "  // Cache steps on the outputElement to make it available for the next call\n",
              "  // to uploadFilesContinue from Python.\n",
              "  outputElement.steps = steps;\n",
              "\n",
              "  return _uploadFilesContinue(outputId);\n",
              "}\n",
              "\n",
              "// This is roughly an async generator (not supported in the browser yet),\n",
              "// where there are multiple asynchronous steps and the Python side is going\n",
              "// to poll for completion of each step.\n",
              "// This uses a Promise to block the python side on completion of each step,\n",
              "// then passes the result of the previous step as the input to the next step.\n",
              "function _uploadFilesContinue(outputId) {\n",
              "  const outputElement = document.getElementById(outputId);\n",
              "  const steps = outputElement.steps;\n",
              "\n",
              "  const next = steps.next(outputElement.lastPromiseValue);\n",
              "  return Promise.resolve(next.value.promise).then((value) => {\n",
              "    // Cache the last promise value to make it available to the next\n",
              "    // step of the generator.\n",
              "    outputElement.lastPromiseValue = value;\n",
              "    return next.value.response;\n",
              "  });\n",
              "}\n",
              "\n",
              "/**\n",
              " * Generator function which is called between each async step of the upload\n",
              " * process.\n",
              " * @param {string} inputId Element ID of the input file picker element.\n",
              " * @param {string} outputId Element ID of the output display.\n",
              " * @return {!Iterable<!Object>} Iterable of next steps.\n",
              " */\n",
              "function* uploadFilesStep(inputId, outputId) {\n",
              "  const inputElement = document.getElementById(inputId);\n",
              "  inputElement.disabled = false;\n",
              "\n",
              "  const outputElement = document.getElementById(outputId);\n",
              "  outputElement.innerHTML = '';\n",
              "\n",
              "  const pickedPromise = new Promise((resolve) => {\n",
              "    inputElement.addEventListener('change', (e) => {\n",
              "      resolve(e.target.files);\n",
              "    });\n",
              "  });\n",
              "\n",
              "  const cancel = document.createElement('button');\n",
              "  inputElement.parentElement.appendChild(cancel);\n",
              "  cancel.textContent = 'Cancel upload';\n",
              "  const cancelPromise = new Promise((resolve) => {\n",
              "    cancel.onclick = () => {\n",
              "      resolve(null);\n",
              "    };\n",
              "  });\n",
              "\n",
              "  // Wait for the user to pick the files.\n",
              "  const files = yield {\n",
              "    promise: Promise.race([pickedPromise, cancelPromise]),\n",
              "    response: {\n",
              "      action: 'starting',\n",
              "    }\n",
              "  };\n",
              "\n",
              "  cancel.remove();\n",
              "\n",
              "  // Disable the input element since further picks are not allowed.\n",
              "  inputElement.disabled = true;\n",
              "\n",
              "  if (!files) {\n",
              "    return {\n",
              "      response: {\n",
              "        action: 'complete',\n",
              "      }\n",
              "    };\n",
              "  }\n",
              "\n",
              "  for (const file of files) {\n",
              "    const li = document.createElement('li');\n",
              "    li.append(span(file.name, {fontWeight: 'bold'}));\n",
              "    li.append(span(\n",
              "        `(${file.type || 'n/a'}) - ${file.size} bytes, ` +\n",
              "        `last modified: ${\n",
              "            file.lastModifiedDate ? file.lastModifiedDate.toLocaleDateString() :\n",
              "                                    'n/a'} - `));\n",
              "    const percent = span('0% done');\n",
              "    li.appendChild(percent);\n",
              "\n",
              "    outputElement.appendChild(li);\n",
              "\n",
              "    const fileDataPromise = new Promise((resolve) => {\n",
              "      const reader = new FileReader();\n",
              "      reader.onload = (e) => {\n",
              "        resolve(e.target.result);\n",
              "      };\n",
              "      reader.readAsArrayBuffer(file);\n",
              "    });\n",
              "    // Wait for the data to be ready.\n",
              "    let fileData = yield {\n",
              "      promise: fileDataPromise,\n",
              "      response: {\n",
              "        action: 'continue',\n",
              "      }\n",
              "    };\n",
              "\n",
              "    // Use a chunked sending to avoid message size limits. See b/62115660.\n",
              "    let position = 0;\n",
              "    do {\n",
              "      const length = Math.min(fileData.byteLength - position, MAX_PAYLOAD_SIZE);\n",
              "      const chunk = new Uint8Array(fileData, position, length);\n",
              "      position += length;\n",
              "\n",
              "      const base64 = btoa(String.fromCharCode.apply(null, chunk));\n",
              "      yield {\n",
              "        response: {\n",
              "          action: 'append',\n",
              "          file: file.name,\n",
              "          data: base64,\n",
              "        },\n",
              "      };\n",
              "\n",
              "      let percentDone = fileData.byteLength === 0 ?\n",
              "          100 :\n",
              "          Math.round((position / fileData.byteLength) * 100);\n",
              "      percent.textContent = `${percentDone}% done`;\n",
              "\n",
              "    } while (position < fileData.byteLength);\n",
              "  }\n",
              "\n",
              "  // All done.\n",
              "  yield {\n",
              "    response: {\n",
              "      action: 'complete',\n",
              "    }\n",
              "  };\n",
              "}\n",
              "\n",
              "scope.google = scope.google || {};\n",
              "scope.google.colab = scope.google.colab || {};\n",
              "scope.google.colab._files = {\n",
              "  _uploadFiles,\n",
              "  _uploadFilesContinue,\n",
              "};\n",
              "})(self);\n",
              "</script> "
            ]
          },
          "metadata": {}
        },
        {
          "output_type": "stream",
          "name": "stdout",
          "text": [
            "Saving key.txt to key.txt\n"
          ]
        },
        {
          "output_type": "execute_result",
          "data": {
            "text/plain": [
              "'key.txt'"
            ],
            "application/vnd.google.colaboratory.intrinsic+json": {
              "type": "string"
            }
          },
          "metadata": {},
          "execution_count": 1
        }
      ],
      "source": [
        "from google.colab import files\n",
        "uploaded = files.upload()\n",
        "filename = list(uploaded.keys())[0]\n",
        "filename"
      ]
    },
    {
      "cell_type": "code",
      "source": [
        "with open(filename) as f:\n",
        "    api_key = f.read()"
      ],
      "metadata": {
        "id": "fBayteo5hY-x"
      },
      "execution_count": null,
      "outputs": []
    },
    {
      "cell_type": "code",
      "source": [
        "len(api_key)"
      ],
      "metadata": {
        "colab": {
          "base_uri": "https://localhost:8080/"
        },
        "id": "Nj6q7QCqhzzi",
        "outputId": "a92a2778-54f3-4e04-90c2-a26081222292"
      },
      "execution_count": null,
      "outputs": [
        {
          "output_type": "execute_result",
          "data": {
            "text/plain": [
              "43"
            ]
          },
          "metadata": {},
          "execution_count": 3
        }
      ]
    },
    {
      "cell_type": "code",
      "source": [
        "import requests\n",
        "from urllib.parse import quote"
      ],
      "metadata": {
        "id": "LX7FdZmFh352"
      },
      "execution_count": null,
      "outputs": []
    },
    {
      "cell_type": "code",
      "source": [
        "bldg = '서울특별시청'\n",
        "quote(bldg)"
      ],
      "metadata": {
        "colab": {
          "base_uri": "https://localhost:8080/",
          "height": 35
        },
        "id": "G7XmT6P5imn4",
        "outputId": "29e80cba-1c5b-45ff-c0d5-c53513f9b8b1"
      },
      "execution_count": null,
      "outputs": [
        {
          "output_type": "execute_result",
          "data": {
            "text/plain": [
              "'%EC%84%9C%EC%9A%B8%ED%8A%B9%EB%B3%84%EC%8B%9C%EC%B2%AD'"
            ],
            "application/vnd.google.colaboratory.intrinsic+json": {
              "type": "string"
            }
          },
          "metadata": {},
          "execution_count": 5
        }
      ]
    },
    {
      "cell_type": "code",
      "source": [
        "base_url = 'https://business.juso.go.kr/addrlink/addrLinkApi.do'\n",
        "params1 = f'currentPage=1&countPerPage=10&confmKey={api_key}'\n",
        "params2 = f'keyword={quote(\"Auckland\")}&resultType=json'\n",
        "url = f'{base_url}?{params1}&{params2}'"
      ],
      "metadata": {
        "id": "N_NMYLcGjrTY"
      },
      "execution_count": 80,
      "outputs": []
    },
    {
      "cell_type": "markdown",
      "source": [
        "* 요청결과 얻기"
      ],
      "metadata": {
        "id": "I5uR9jMZkjWa"
      }
    },
    {
      "cell_type": "code",
      "source": [
        "result = requests.get(url)\n",
        "result.status_code"
      ],
      "metadata": {
        "colab": {
          "base_uri": "https://localhost:8080/"
        },
        "id": "LfL7TZVYklNT",
        "outputId": "298036e5-87e3-445b-c8ce-848954c6b8f3"
      },
      "execution_count": 81,
      "outputs": [
        {
          "output_type": "execute_result",
          "data": {
            "text/plain": [
              "200"
            ]
          },
          "metadata": {},
          "execution_count": 81
        }
      ]
    },
    {
      "cell_type": "code",
      "source": [
        "result.text"
      ],
      "metadata": {
        "colab": {
          "base_uri": "https://localhost:8080/",
          "height": 54
        },
        "id": "meehkS6BkrC-",
        "outputId": "208a46c9-43c3-4718-efc9-dd3db82f1e98"
      },
      "execution_count": 82,
      "outputs": [
        {
          "output_type": "execute_result",
          "data": {
            "text/plain": [
              "'{\"results\":{\"common\":{\"errorMessage\":\"정상\",\"countPerPage\":\"10\",\"totalCount\":\"0\",\"errorCode\":\"0\",\"currentPage\":\"1\"},\"juso\":[]}}'"
            ],
            "application/vnd.google.colaboratory.intrinsic+json": {
              "type": "string"
            }
          },
          "metadata": {},
          "execution_count": 82
        }
      ]
    },
    {
      "cell_type": "code",
      "source": [
        "import json\n",
        "res = json.loads(result.text)"
      ],
      "metadata": {
        "id": "kCvKGxd_mHnw"
      },
      "execution_count": null,
      "outputs": []
    },
    {
      "cell_type": "code",
      "source": [
        "res"
      ],
      "metadata": {
        "colab": {
          "base_uri": "https://localhost:8080/"
        },
        "id": "d-3j7XnZqrhe",
        "outputId": "fdad20d4-6cea-4e5b-9491-878fe6cab422"
      },
      "execution_count": null,
      "outputs": [
        {
          "output_type": "execute_result",
          "data": {
            "text/plain": [
              "{'results': {'common': {'errorMessage': '정상',\n",
              "   'countPerPage': '10',\n",
              "   'totalCount': '1',\n",
              "   'errorCode': '0',\n",
              "   'currentPage': '1'},\n",
              "  'juso': [{'detBdNmList': '본관동,신관',\n",
              "    'engAddr': '110 Sejong-daero, Jung-gu, Seoul',\n",
              "    'rn': '세종대로',\n",
              "    'emdNm': '태평로1가',\n",
              "    'zipNo': '04524',\n",
              "    'roadAddrPart2': '(태평로1가)',\n",
              "    'emdNo': '02',\n",
              "    'sggNm': '중구',\n",
              "    'jibunAddr': '서울특별시 중구 태평로1가 31 서울특별시청',\n",
              "    'siNm': '서울특별시',\n",
              "    'roadAddrPart1': '서울특별시 중구 세종대로 110',\n",
              "    'bdNm': '서울특별시청',\n",
              "    'admCd': '1114010300',\n",
              "    'udrtYn': '0',\n",
              "    'lnbrMnnm': '31',\n",
              "    'roadAddr': '서울특별시 중구 세종대로 110(태평로1가)',\n",
              "    'lnbrSlno': '0',\n",
              "    'buldMnnm': '110',\n",
              "    'bdKdcd': '0',\n",
              "    'liNm': '',\n",
              "    'rnMgtSn': '111402005001',\n",
              "    'mtYn': '0',\n",
              "    'bdMgtSn': '1114010300100310000019224',\n",
              "    'buldSlno': '0'}]}}"
            ]
          },
          "metadata": {},
          "execution_count": 10
        }
      ]
    },
    {
      "cell_type": "code",
      "source": [
        "# 'roadaddr' : '서울특별시 중구 세종대로 110(태평로1가)'\n",
        "res['results']"
      ],
      "metadata": {
        "colab": {
          "base_uri": "https://localhost:8080/"
        },
        "id": "8Y2ViD_Eqsjm",
        "outputId": "50579b16-1779-4bbc-acb7-a99fed5929a5"
      },
      "execution_count": null,
      "outputs": [
        {
          "output_type": "execute_result",
          "data": {
            "text/plain": [
              "{'common': {'errorMessage': '정상',\n",
              "  'countPerPage': '10',\n",
              "  'totalCount': '1',\n",
              "  'errorCode': '0',\n",
              "  'currentPage': '1'},\n",
              " 'juso': [{'detBdNmList': '본관동,신관',\n",
              "   'engAddr': '110 Sejong-daero, Jung-gu, Seoul',\n",
              "   'rn': '세종대로',\n",
              "   'emdNm': '태평로1가',\n",
              "   'zipNo': '04524',\n",
              "   'roadAddrPart2': '(태평로1가)',\n",
              "   'emdNo': '02',\n",
              "   'sggNm': '중구',\n",
              "   'jibunAddr': '서울특별시 중구 태평로1가 31 서울특별시청',\n",
              "   'siNm': '서울특별시',\n",
              "   'roadAddrPart1': '서울특별시 중구 세종대로 110',\n",
              "   'bdNm': '서울특별시청',\n",
              "   'admCd': '1114010300',\n",
              "   'udrtYn': '0',\n",
              "   'lnbrMnnm': '31',\n",
              "   'roadAddr': '서울특별시 중구 세종대로 110(태평로1가)',\n",
              "   'lnbrSlno': '0',\n",
              "   'buldMnnm': '110',\n",
              "   'bdKdcd': '0',\n",
              "   'liNm': '',\n",
              "   'rnMgtSn': '111402005001',\n",
              "   'mtYn': '0',\n",
              "   'bdMgtSn': '1114010300100310000019224',\n",
              "   'buldSlno': '0'}]}"
            ]
          },
          "metadata": {},
          "execution_count": 17
        }
      ]
    },
    {
      "cell_type": "code",
      "source": [
        "res['results']['juso']"
      ],
      "metadata": {
        "colab": {
          "base_uri": "https://localhost:8080/"
        },
        "id": "SIDJof-FrUwu",
        "outputId": "b5f8035d-591e-41ba-f63c-808a8d64c127"
      },
      "execution_count": null,
      "outputs": [
        {
          "output_type": "execute_result",
          "data": {
            "text/plain": [
              "[{'detBdNmList': '본관동,신관',\n",
              "  'engAddr': '110 Sejong-daero, Jung-gu, Seoul',\n",
              "  'rn': '세종대로',\n",
              "  'emdNm': '태평로1가',\n",
              "  'zipNo': '04524',\n",
              "  'roadAddrPart2': '(태평로1가)',\n",
              "  'emdNo': '02',\n",
              "  'sggNm': '중구',\n",
              "  'jibunAddr': '서울특별시 중구 태평로1가 31 서울특별시청',\n",
              "  'siNm': '서울특별시',\n",
              "  'roadAddrPart1': '서울특별시 중구 세종대로 110',\n",
              "  'bdNm': '서울특별시청',\n",
              "  'admCd': '1114010300',\n",
              "  'udrtYn': '0',\n",
              "  'lnbrMnnm': '31',\n",
              "  'roadAddr': '서울특별시 중구 세종대로 110(태평로1가)',\n",
              "  'lnbrSlno': '0',\n",
              "  'buldMnnm': '110',\n",
              "  'bdKdcd': '0',\n",
              "  'liNm': '',\n",
              "  'rnMgtSn': '111402005001',\n",
              "  'mtYn': '0',\n",
              "  'bdMgtSn': '1114010300100310000019224',\n",
              "  'buldSlno': '0'}]"
            ]
          },
          "metadata": {},
          "execution_count": 21
        }
      ]
    },
    {
      "cell_type": "code",
      "source": [
        "a = res['results']['juso'][0]['roadAddr']\n",
        "a"
      ],
      "metadata": {
        "colab": {
          "base_uri": "https://localhost:8080/",
          "height": 35
        },
        "id": "XLoRQhPeroEO",
        "outputId": "2dbd5270-685d-45d2-d8d9-e0e576a0db71"
      },
      "execution_count": null,
      "outputs": [
        {
          "output_type": "execute_result",
          "data": {
            "text/plain": [
              "'서울특별시 중구 세종대로 110(태평로1가)'"
            ],
            "application/vnd.google.colaboratory.intrinsic+json": {
              "type": "string"
            }
          },
          "metadata": {},
          "execution_count": 45
        }
      ]
    },
    {
      "cell_type": "code",
      "source": [
        "place = '종로구청 노원구청 송파구청 마포구청 양천구청 강북구청'\n",
        "place = place.split(\" \")"
      ],
      "metadata": {
        "id": "MDMNG3h4rx_7"
      },
      "execution_count": null,
      "outputs": []
    },
    {
      "cell_type": "code",
      "source": [
        "range(len(place))"
      ],
      "metadata": {
        "colab": {
          "base_uri": "https://localhost:8080/"
        },
        "id": "mdsXJG9HtFBG",
        "outputId": "ed35ab1a-ccb2-4e6c-c0d6-58100ccf38af"
      },
      "execution_count": null,
      "outputs": [
        {
          "output_type": "execute_result",
          "data": {
            "text/plain": [
              "range(0, 6)"
            ]
          },
          "metadata": {},
          "execution_count": 64
        }
      ]
    },
    {
      "cell_type": "code",
      "source": [
        "addr_list = []\n",
        "for i in range(len(place)):\n",
        "  bldg = place[i]\n",
        "  print(bldg)\n",
        "  quote(bldg)\n",
        "  #base_url = 'https://business.juso.go.kr/addrlink/addrLinkApi.do'\n",
        "  #params1 = f'currentPage=1&countPerPage=10&confmKey={api_key}'\n",
        "  params2 = f'keyword={quote(place[i])}&resultType=json'\n",
        "  url = f'{base_url}?{params1}&{params2}'\n",
        "  result = requests.get(url)\n",
        "  #result.status_code\n",
        "  ans = result.text\n",
        "  res = json.loads(ans)\n",
        "  a = res['results']['juso'][0]['roadAddr']\n",
        "  addr_list.append(a)"
      ],
      "metadata": {
        "colab": {
          "base_uri": "https://localhost:8080/"
        },
        "id": "TLWQf49ItdON",
        "outputId": "f35a68fc-c420-4bb3-b917-9818155253b7"
      },
      "execution_count": null,
      "outputs": [
        {
          "output_type": "stream",
          "name": "stdout",
          "text": [
            "종로구청\n",
            "노원구청\n",
            "송파구청\n",
            "마포구청\n",
            "양천구청\n",
            "강북구청\n"
          ]
        }
      ]
    },
    {
      "cell_type": "code",
      "source": [
        "addr_list"
      ],
      "metadata": {
        "colab": {
          "base_uri": "https://localhost:8080/"
        },
        "id": "uBXtm2rzwEzt",
        "outputId": "802deebe-93a3-46f9-d886-a2f39705fb60"
      },
      "execution_count": null,
      "outputs": [
        {
          "output_type": "execute_result",
          "data": {
            "text/plain": [
              "['서울특별시 종로구 종로1길 36(수송동)',\n",
              " '서울특별시 노원구 노해로 437(상계동)',\n",
              " '서울특별시 송파구 올림픽로 326(신천동)',\n",
              " '서울특별시 마포구 월드컵로 지하190(성산동)',\n",
              " '서울특별시 양천구 목동동로 105(신정동)',\n",
              " '서울특별시 강북구 도봉로89길 13(수유동)']"
            ]
          },
          "metadata": {},
          "execution_count": 75
        }
      ]
    },
    {
      "cell_type": "code",
      "source": [
        "import pandas as pd\n",
        "df = pd.DataFrame({\"장소\":place, \"도로명주소\":addr_list})"
      ],
      "metadata": {
        "id": "wWRQZXdvxCnV"
      },
      "execution_count": null,
      "outputs": []
    },
    {
      "cell_type": "code",
      "source": [
        "df.to_csv('서울시_주요기관.csv',index = False)"
      ],
      "metadata": {
        "id": "UKYX_MRJyhad"
      },
      "execution_count": null,
      "outputs": []
    },
    {
      "cell_type": "code",
      "source": [],
      "metadata": {
        "id": "Z7YQD6q3yh5V"
      },
      "execution_count": null,
      "outputs": []
    }
  ]
}